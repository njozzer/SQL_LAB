{
 "cells": [
  {
   "cell_type": "markdown",
   "metadata": {},
   "source": [
    "Данное домашнее задание посвящено схеме базе данных, связанной с футбольным командами. Схема расположена в hw_diagram.jpg\n",
    "## Описание таблиц \n",
    "\n",
    "### Positions \n",
    "Позиции игроков\n",
    "id - уникальный идентификатор позиции \n",
    "Name - Название таблицы \n",
    "\n",
    "### Coaches \n",
    "Таблица тренеров \n",
    "id - уникальный идентификатор тренера\n",
    "Name - имя тренера \n",
    "\n",
    "## Teams \n",
    "Таблица команд \n",
    "id - уникальный идентификатор  команды \n",
    "Name - имя команды \n",
    "Location - расположение команды \n",
    "Coach_id - идентификатор тренера \n",
    "\n",
    "### Players \n",
    "Таблица игроков \n",
    "Id - уникальный идентификатор игрока \n",
    "Name - имя игрока \n",
    "Age - возраст игрока \n",
    "Position_id - идентификатор позиции \n",
    "Team_id - идентификатор команды \n",
    "Start_date - дата начала игры в команде \n",
    "\n",
    "### PlayersArchive \n",
    "Архив по игрокам (информация о том, в какой команде игрок играл ранее) \n",
    "player_id - идентификатор игрока \n",
    "team_id - идентификатор команды \n",
    "start_date - дата начала игры \n",
    "end_date - дата окончания игры"
   ]
  },
  {
   "cell_type": "markdown",
   "metadata": {},
   "source": [
    "# Задание 1\n",
    "Реализовать перенакатываемые sql-скрипты по схеме hw_diagram, приложенного ниже."
   ]
  },
  {
   "cell_type": "code",
   "execution_count": 3,
   "metadata": {},
   "outputs": [
    {
     "name": "stdout",
     "output_type": "stream",
     "text": [
      "The sql extension is already loaded. To reload it, use:\n",
      "  %reload_ext sql\n"
     ]
    },
    {
     "data": {
      "text/plain": [
       "'Connected: @HomeW.db'"
      ]
     },
     "execution_count": 3,
     "metadata": {},
     "output_type": "execute_result"
    }
   ],
   "source": [
    "%load_ext sql\n",
    "%sql sqlite:///HomeW.db"
   ]
  },
  {
   "cell_type": "code",
   "execution_count": 54,
   "metadata": {},
   "outputs": [
    {
     "name": "stdout",
     "output_type": "stream",
     "text": [
      " * sqlite:///HomeW.db\n",
      "Done.\n",
      "(sqlite3.OperationalError) database is locked [SQL: 'drop table if exists PlayersArchive;'] (Background on this error at: http://sqlalche.me/e/e3q8)\n"
     ]
    }
   ],
   "source": [
    "%%sql\n",
    "PRAGMA foreign_keys=ON;\n",
    "drop table if exists PlayersArchive;\n",
    "drop table if exists Players;\n",
    "drop table if exists Teams;\n",
    "drop table if exists Coaches;\n",
    "drop table if exists Positions;\n",
    "\n",
    "\n",
    "create table Coaches (\n",
    "    id integer not null primary key,\n",
    "    name varchar(30)\n",
    ");\n",
    "create table Positions(\n",
    "    id integer not null primary key,\n",
    "    name varchar(30)\n",
    ");\n",
    "create table Teams(\n",
    "    id integer not null primary key,\n",
    "    name varchar(30),\n",
    "    location varchar(30),\n",
    "    coach_id integer,\n",
    "    foreign key(coach_id) references Coaches(id)\n",
    ");\n",
    "create table Players(\n",
    "    id integer not null primary key,\n",
    "    name varchar(30),\n",
    "    age integer,\n",
    "    position_id integer,\n",
    "    team_id integer,\n",
    "    start_date date,\n",
    "    foreign key(position_id) references Positions(id)\n",
    ");\n",
    "\n",
    "create table PlayersArchive(\n",
    "    player_id integer,\n",
    "    team_id integer,\n",
    "    start_date date not null,\n",
    "    end_date date,\n",
    "    foreign key(player_id) references Players(id),\n",
    "    foreign key(team_id) references Teams(id),\n",
    "    primary key(player_id,team_id,start_date)\n",
    ");\n"
   ]
  },
  {
   "cell_type": "markdown",
   "metadata": {},
   "source": [
    "# Задание 2\n",
    "Написать sql-скрипт, осуществляюший добавление всех возможных позиций игроков. (В данной задаче можно ограничится четырьмя - вратарь, защитник, полузащитник, нападающий)"
   ]
  },
  {
   "cell_type": "code",
   "execution_count": 55,
   "metadata": {},
   "outputs": [
    {
     "name": "stdout",
     "output_type": "stream",
     "text": [
      " * sqlite:///HomeW.db\n",
      "(sqlite3.OperationalError) database is locked (Background on this error at: http://sqlalche.me/e/e3q8)\n"
     ]
    }
   ],
   "source": [
    "%%sql\n",
    "insert into Positions (name) values (\"Goalkeeper\"),(\"Full-back\"),(\"Wing-back\"),(\"Forward\")"
   ]
  },
  {
   "cell_type": "markdown",
   "metadata": {},
   "source": [
    "# Задание 3\n",
    "Написать функцию, осуществляющую добавление тренера. На вход функции подается имя тренера. При невозможности вставки функция должна обработать данное исключение и вывести пользователю информацию о проблеме\n",
    "\n",
    "После написания функции необходимо добавить несколько тренеров для таблицы."
   ]
  },
  {
   "cell_type": "code",
   "execution_count": 1,
   "metadata": {},
   "outputs": [],
   "source": [
    "import sqlite3"
   ]
  },
  {
   "cell_type": "code",
   "execution_count": 22,
   "metadata": {},
   "outputs": [],
   "source": [
    "db.close()"
   ]
  },
  {
   "cell_type": "code",
   "execution_count": 4,
   "metadata": {},
   "outputs": [],
   "source": [
    "def add_coach(name):\n",
    "    db=sqlite3.connect('HomeW.db')\n",
    "    \n",
    "    cursor = db.cursor()\n",
    "    cursor1 = db.cursor()\n",
    "    cursor1.execute(\"select id from Coaches where name == ?\",(name,))\n",
    "    try:\n",
    "        r = cursor1.fetchone()[0]\n",
    "        print(\"Table contains this Coach with id = \",r)\n",
    "    except TypeError:\n",
    "        cursor.execute(\"insert into Coaches(name) values(?)\",(name,))\n",
    "        db.commit()\n",
    "    db.close()\n",
    "    "
   ]
  },
  {
   "cell_type": "code",
   "execution_count": 5,
   "metadata": {},
   "outputs": [
    {
     "name": "stdout",
     "output_type": "stream",
     "text": [
      "Table contains this Coach with id =  1\n",
      "Table contains this Coach with id =  2\n",
      "Table contains this Coach with id =  3\n"
     ]
    }
   ],
   "source": [
    "add_coach(\"Coach_0\")\n",
    "add_coach(\"Coach_2\")\n",
    "add_coach(\"Coach_3\")"
   ]
  },
  {
   "cell_type": "code",
   "execution_count": 30,
   "metadata": {},
   "outputs": [],
   "source": [
    "def print_coaches():\n",
    "    db=sqlite3.connect('HomeW.db')\n",
    "    cursor = db.cursor()\n",
    "    query = \"select * from Coaches\"\n",
    "    cursor.execute(query)\n",
    "    try:\n",
    "        for item in cursor.fetchall():\n",
    "            print(item)\n",
    "        return\n",
    "        pass\n",
    "    except:       \n",
    "        pass\n",
    "    db.close()\n",
    "    "
   ]
  },
  {
   "cell_type": "code",
   "execution_count": 31,
   "metadata": {},
   "outputs": [
    {
     "name": "stdout",
     "output_type": "stream",
     "text": [
      "(1, 'Coach_0')\n",
      "(2, 'Coach_2')\n",
      "(3, 'Coach_3')\n"
     ]
    }
   ],
   "source": [
    "print_coaches()"
   ]
  },
  {
   "cell_type": "markdown",
   "metadata": {},
   "source": [
    "# Задание 4\n",
    "\n",
    "Написать функцию, осуществляющую добавление команды. На вход функция принимает (имя команды, местоположение, имя тренера).\n",
    "На выходе должна быть добавлена команда.\n",
    "\n",
    "После написания функции необходимо добавить несколько команд"
   ]
  },
  {
   "cell_type": "code",
   "execution_count": 6,
   "metadata": {},
   "outputs": [],
   "source": [
    "def add_team(name,location,coach_name):\n",
    "    db=sqlite3.connect('HomeW.db')\n",
    "    cursor_1 = db.cursor()\n",
    "    query = \"select * from Teams where name = '{0}'\".format(name)\n",
    "    cursor_1.execute(query)\n",
    "    try:\n",
    "        data = cursor_1.fetchone()[0]\n",
    "        print(\"team exists\")\n",
    "        return\n",
    "        pass\n",
    "    except:       \n",
    "        pass\n",
    "    cursor = db.cursor()\n",
    "    query = \"insert into Teams(name,location,coach_id) values('{0}','{1}',(select id from Coaches where name = '{2}'))\".format(name,location,coach_name)\n",
    "    cursor.execute(query)\n",
    "    db.commit()\n",
    "    db=sqlite3.connect('HomeW.db')"
   ]
  },
  {
   "cell_type": "code",
   "execution_count": 7,
   "metadata": {},
   "outputs": [
    {
     "name": "stdout",
     "output_type": "stream",
     "text": [
      "team exists\n",
      "team exists\n",
      "team exists\n"
     ]
    }
   ],
   "source": [
    "add_team(\"team_1\",\"Moscow\",\"Coach_0\")\n",
    "add_team(\"team_2\",\"Moscow\",\"Coach_2\")\n",
    "add_team(\"team_3\",\"Moscow\",\"Coach_3\")"
   ]
  },
  {
   "cell_type": "code",
   "execution_count": 118,
   "metadata": {},
   "outputs": [],
   "source": [
    "db.close()"
   ]
  },
  {
   "cell_type": "code",
   "execution_count": 28,
   "metadata": {},
   "outputs": [],
   "source": [
    "def print_teams():\n",
    "    db=sqlite3.connect('HomeW.db')\n",
    "    cursor = db.cursor()\n",
    "    query = \"select * from Teams\"\n",
    "    cursor.execute(query)\n",
    "    try:\n",
    "        for item in cursor.fetchall():\n",
    "            print(item)\n",
    "        return\n",
    "        pass\n",
    "    except:       \n",
    "        pass\n",
    "    db.close()\n",
    "    "
   ]
  },
  {
   "cell_type": "code",
   "execution_count": 29,
   "metadata": {},
   "outputs": [
    {
     "name": "stdout",
     "output_type": "stream",
     "text": [
      "(1, 'team_1', 'New York', 1)\n",
      "(2, 'team_2', 'Moscow', 2)\n",
      "(3, 'team_3', 'Moscow', 3)\n"
     ]
    }
   ],
   "source": [
    "print_teams()"
   ]
  },
  {
   "cell_type": "markdown",
   "metadata": {},
   "source": [
    "# Задание 5\n",
    "\n",
    "Написать функцию, осуществляющую обновление информации о команде. У функции на входе должен быть один обязательный параметр - название команды и два необязательных параметра - имя тренера и местоположение. При этом хотя бы один из необязательных параметров должен быть заполнен. Функция должна обновлять значение переданных необязательных параметров.\n",
    "\n",
    "После написания функции вызовите данную функцию несколько раз"
   ]
  },
  {
   "cell_type": "code",
   "execution_count": 15,
   "metadata": {},
   "outputs": [],
   "source": [
    "def update_team(team_name,coach_name=None,location=None):\n",
    "    db=sqlite3.connect('HomeW.db')\n",
    "    cursor = db.cursor()\n",
    "    if coach_name != None:\n",
    "        query = \"update Teams set coach_id = (select id from Coaches where name = '{0}') where name = '{1}'\".format(coach_name,team_name)\n",
    "        cursor.execute(query)\n",
    "        db.commit()\n",
    "    if location != None:\n",
    "        query = \"update Teams set location =  '{0}' where name = '{1}' \".format(location,team_name)\n",
    "        cursor.execute(query)\n",
    "        db.commit()\n",
    "    db.close()\n",
    "    "
   ]
  },
  {
   "cell_type": "code",
   "execution_count": 16,
   "metadata": {
    "scrolled": true
   },
   "outputs": [],
   "source": [
    "update_team(\"team_2\",coach_name=\"Coach_2\")\n",
    "update_team(\"team_1\",location=\"New York\")"
   ]
  },
  {
   "cell_type": "code",
   "execution_count": 17,
   "metadata": {},
   "outputs": [
    {
     "name": "stdout",
     "output_type": "stream",
     "text": [
      "[(1, 'team_1', 'New York', 1), (2, 'team_2', 'Moscow', 2), (3, 'team_3', 'Moscow', 3)]\n"
     ]
    }
   ],
   "source": [
    "print_teams()"
   ]
  },
  {
   "cell_type": "code",
   "execution_count": 24,
   "metadata": {},
   "outputs": [],
   "source": [
    "def print_test():\n",
    "    db=sqlite3.connect('HomeW.db')\n",
    "    cursor = db.cursor()\n",
    "    query = \"select * from Teams\"\n",
    "    cursor.execute(query)\n",
    "    try:\n",
    "        print(cursor.fetchall())\n",
    "        return\n",
    "        pass\n",
    "    except:       \n",
    "        pass\n",
    "    db.close()\n",
    "    "
   ]
  },
  {
   "cell_type": "code",
   "execution_count": 25,
   "metadata": {},
   "outputs": [
    {
     "name": "stdout",
     "output_type": "stream",
     "text": [
      "[(1, 'team_1', 'New York', 1), (2, 'team_2', 'Moscow', 2), (3, 'team_3', 'Moscow', 3)]\n"
     ]
    }
   ],
   "source": [
    "print_test()"
   ]
  },
  {
   "cell_type": "markdown",
   "metadata": {},
   "source": [
    "# Задание 6\n",
    "\n",
    "Написать функцию, осуществляющую добавление нового футболиста в таблицу игроков. На входе (имя, возраст, название позиции, название команды, дата перехода в команду(необязательный параметр)). Если дата перехода не указана, то нужно использовать текущую дату. Предусмотреть различные ошибки (такие как неверное имя позиции, неверное название команды, возраст < 10 и > 50 и т.п.)\n",
    "\n",
    "После написания функции необходимо добавить несколько игроков."
   ]
  },
  {
   "cell_type": "code",
   "execution_count": 26,
   "metadata": {},
   "outputs": [],
   "source": [
    "def get_position(name):\n",
    "    db=sqlite3.connect('HomeW.db')\n",
    "    cursor = db.cursor()\n",
    "    query = \"select id from Positions where name ='{}'\".format(name)\n",
    "    cursor.execute(query)\n",
    "    try:\n",
    "        db.close()\n",
    "        return cursor.fetchone()[0]\n",
    "    except:\n",
    "        db.close()\n",
    "        return -1;"
   ]
  },
  {
   "cell_type": "code",
   "execution_count": 27,
   "metadata": {},
   "outputs": [],
   "source": [
    "def get_team_id(name):\n",
    "    db=sqlite3.connect('HomeW.db')\n",
    "    cursor = db.cursor()\n",
    "    query = \"select id from Teams where name = '{}'\".format(name)\n",
    "    cursor.execute(query)\n",
    "    try:\n",
    "        db.close()\n",
    "        return cursor.fetchone()[0]\n",
    "    except:\n",
    "        db.close()\n",
    "        return -1;"
   ]
  },
  {
   "cell_type": "code",
   "execution_count": 37,
   "metadata": {},
   "outputs": [],
   "source": [
    "def get_player_data(name):\n",
    "    db=sqlite3.connect('HomeW.db')\n",
    "    cursor = db.cursor()\n",
    "    query = \"select team_id,start_date,id,name from Players where name = '{}'\".format(name)\n",
    "    cursor.execute(query)\n",
    "    try:\n",
    "        db.close()\n",
    "        return cursor.fetchone()\n",
    "    except:\n",
    "        db.close()\n",
    "        return -1;"
   ]
  },
  {
   "cell_type": "code",
   "execution_count": null,
   "metadata": {},
   "outputs": [],
   "source": [
    "def add_player(name,age,position,team_name,date=None):\n",
    "    \n",
    "    if(age > 10 and age <50):\n",
    "        db=sqlite3.connect('HomeW.db')\n",
    "        p_id = None\n",
    "        t_id = None\n",
    "        p_id = get_position(position)\n",
    "        if p_id==-1 :\n",
    "            print(\"Wrong position\")\n",
    "            return;\n",
    "        t_id = get_team_id(team_name)\n",
    "        if t_id ==-1 :\n",
    "            print(\"Wrong team\")\n",
    "            return;\n",
    "        data = get_player_data(name)\n",
    "        if data == -1:\n",
    "            pass\n",
    "        else:\n",
    "            pass"
   ]
  },
  {
   "cell_type": "code",
   "execution_count": 9,
   "metadata": {},
   "outputs": [],
   "source": [
    "def add_player(name,age,position,team_name,date=None):\n",
    "    \n",
    "    if(age > 10 and age <50):\n",
    "        db=sqlite3.connect('HomeW.db')\n",
    "        p_id = None\n",
    "        t_id = None\n",
    "        p_id = get_position(position)\n",
    "        if p_id==-1 :\n",
    "            print(\"Wrong position\")\n",
    "            return;\n",
    "        t_id = get_team_id(team_name)\n",
    "        if t_id ==-1 :\n",
    "            print(\"Wrong team\")\n",
    "            return;\n",
    "        data = get_player_data(name)\n",
    "        is_in = False\n",
    "        user_data = None\n",
    "        team_id = \"\"\n",
    "        start_date = \"\"\n",
    "        player_id = \"\"\n",
    "        try:\n",
    "            user_data = cursor_u.fetchone()[0]\n",
    "            is_in = True\n",
    "            team_id = data[0]\n",
    "            start_date = data[1]\n",
    "            player_id = data[2]\n",
    "            \n",
    "        except:\n",
    "            pass\n",
    "        cursor_u.close()\n",
    "        query=\"\"\n",
    "        query3=\"\"\n",
    "        cursor= db.cursor()\n",
    "        if is_in:\n",
    "            \n",
    "            if date == None:\n",
    "                cursor_d = db.cursor()\n",
    "                cursor_d.execute(\"select date('now')\")\n",
    "                da = cursor_d.fetchone()[0]\n",
    "                query= \"update Players set team_id = (select id from Teams where name = '{0}'),\\\n",
    "                position_id = (select id from Positions where name = '{1}'),age = '{2}',start_date = '{3}' where name = '{4}'\".format(team_name,position,age,da,name)\n",
    "                query3 = \"insert into Players_archive(player_id,team_id,start_date,end_date) values ('{0}','{1}','{2}','{3}')\".format(player_id,team_id,start_date,da)\n",
    "                \n",
    "            else:\n",
    "                query= \"update Players set team_id = (select id from Teams where name = '{0}'),\\\n",
    "                position_id = (select id from Positions where name = '{1}'),age = '{2}',start_date = '{3}' where name = '{4}'\".format(team_name,position,age,date,name)\n",
    "                query3 = \"insert into PlayersArchive(player_id,team_id,start_date,end_date) values ('{0}','{1}','{2}','{3}')\".format(player_id,team_id,start_date,date)\n",
    "            cursor.execute(query)\n",
    "            cursor_e = db.cursor()\n",
    "            cursor_e.execute(query3)\n",
    "            db.commit()\n",
    "            pass\n",
    "        else:\n",
    "            if date == None:\n",
    "                cursor_d = db.cursor()\n",
    "                cursor_d.execute(\"select date('now')\")\n",
    "                da = cursor_d.fetchone()[0]\n",
    "                query= \"insert into Players(name,age,position_id,team_id,start_date) values('{0}','{1}','{2}','{3}','{4}')\".format(name,age,p_id,t_id,da)\n",
    "            else:\n",
    "                query= \"insert into Players(name,age,position_id,team_id,start_date) values('{0}','{1}','{2}','{3}','{4}')\".format(name,age,p_id,t_id,date)\n",
    "            cursor.execute(query)\n",
    "            db.commit()\n",
    "        db.close()\n",
    "    else:\n",
    "        print(\"Wrong age\")"
   ]
  },
  {
   "cell_type": "code",
   "execution_count": 11,
   "metadata": {},
   "outputs": [
    {
     "ename": "OperationalError",
     "evalue": "database is locked",
     "output_type": "error",
     "traceback": [
      "\u001b[0;31m---------------------------------------------------------------------------\u001b[0m",
      "\u001b[0;31mOperationalError\u001b[0m                          Traceback (most recent call last)",
      "\u001b[0;32m<ipython-input-11-6dd024f353d6>\u001b[0m in \u001b[0;36m<module>\u001b[0;34m\u001b[0m\n\u001b[0;32m----> 1\u001b[0;31m \u001b[0madd_player\u001b[0m\u001b[0;34m(\u001b[0m\u001b[0;34m\"1\"\u001b[0m\u001b[0;34m,\u001b[0m\u001b[0;36m11\u001b[0m\u001b[0;34m,\u001b[0m\u001b[0;34m\"Goalkeeper\"\u001b[0m\u001b[0;34m,\u001b[0m\u001b[0;34m\"team_1\"\u001b[0m\u001b[0;34m)\u001b[0m\u001b[0;34m\u001b[0m\u001b[0;34m\u001b[0m\u001b[0m\n\u001b[0m",
      "\u001b[0;32m<ipython-input-9-c20c73863ef6>\u001b[0m in \u001b[0;36madd_player\u001b[0;34m(name, age, position, team_name, date)\u001b[0m\n\u001b[1;32m     64\u001b[0m                 \u001b[0mposition_id\u001b[0m \u001b[0;34m=\u001b[0m \u001b[0;34m(\u001b[0m\u001b[0mselect\u001b[0m \u001b[0mid\u001b[0m \u001b[0;32mfrom\u001b[0m \u001b[0mPositions\u001b[0m \u001b[0mwhere\u001b[0m \u001b[0mname\u001b[0m \u001b[0;34m=\u001b[0m \u001b[0;34m'{1}'\u001b[0m\u001b[0;34m)\u001b[0m\u001b[0;34m,\u001b[0m\u001b[0mage\u001b[0m \u001b[0;34m=\u001b[0m \u001b[0;34m'{2}'\u001b[0m\u001b[0;34m,\u001b[0m\u001b[0mstart_date\u001b[0m \u001b[0;34m=\u001b[0m \u001b[0;34m'{3}'\u001b[0m \u001b[0mwhere\u001b[0m \u001b[0mname\u001b[0m \u001b[0;34m=\u001b[0m \u001b[0;34m'{4}'\u001b[0m\u001b[0;31m\"\u001b[0m\u001b[0;34m.\u001b[0m\u001b[0mformat\u001b[0m\u001b[0;34m(\u001b[0m\u001b[0mteam_name\u001b[0m\u001b[0;34m,\u001b[0m\u001b[0mposition\u001b[0m\u001b[0;34m,\u001b[0m\u001b[0mage\u001b[0m\u001b[0;34m,\u001b[0m\u001b[0mdate\u001b[0m\u001b[0;34m,\u001b[0m\u001b[0mname\u001b[0m\u001b[0;34m)\u001b[0m\u001b[0;34m\u001b[0m\u001b[0;34m\u001b[0m\u001b[0m\n\u001b[1;32m     65\u001b[0m                 \u001b[0mquery3\u001b[0m \u001b[0;34m=\u001b[0m \u001b[0;34m\"insert into PlayersArchive(player_id,team_id,start_date,end_date) values ('{0}','{1}','{2}','{3}')\"\u001b[0m\u001b[0;34m.\u001b[0m\u001b[0mformat\u001b[0m\u001b[0;34m(\u001b[0m\u001b[0mplayer_id\u001b[0m\u001b[0;34m,\u001b[0m\u001b[0mteam_id\u001b[0m\u001b[0;34m,\u001b[0m\u001b[0mstart_date\u001b[0m\u001b[0;34m,\u001b[0m\u001b[0mdate\u001b[0m\u001b[0;34m)\u001b[0m\u001b[0;34m\u001b[0m\u001b[0;34m\u001b[0m\u001b[0m\n\u001b[0;32m---> 66\u001b[0;31m             \u001b[0mcursor\u001b[0m\u001b[0;34m.\u001b[0m\u001b[0mexecute\u001b[0m\u001b[0;34m(\u001b[0m\u001b[0mquery\u001b[0m\u001b[0;34m)\u001b[0m\u001b[0;34m\u001b[0m\u001b[0;34m\u001b[0m\u001b[0m\n\u001b[0m\u001b[1;32m     67\u001b[0m             \u001b[0mcursor_e\u001b[0m \u001b[0;34m=\u001b[0m \u001b[0mdb\u001b[0m\u001b[0;34m.\u001b[0m\u001b[0mcursor\u001b[0m\u001b[0;34m(\u001b[0m\u001b[0;34m)\u001b[0m\u001b[0;34m\u001b[0m\u001b[0;34m\u001b[0m\u001b[0m\n\u001b[1;32m     68\u001b[0m             \u001b[0mcursor_e\u001b[0m\u001b[0;34m.\u001b[0m\u001b[0mexecute\u001b[0m\u001b[0;34m(\u001b[0m\u001b[0mquery3\u001b[0m\u001b[0;34m)\u001b[0m\u001b[0;34m\u001b[0m\u001b[0;34m\u001b[0m\u001b[0m\n",
      "\u001b[0;31mOperationalError\u001b[0m: database is locked"
     ]
    }
   ],
   "source": [
    "add_player(\"1\",11,\"Goalkeeper\",\"team_1\")\n"
   ]
  },
  {
   "cell_type": "code",
   "execution_count": 5,
   "metadata": {},
   "outputs": [
    {
     "name": "stdout",
     "output_type": "stream",
     "text": [
      " * sqlite:///HomeW.db\n",
      "2 rows affected.\n"
     ]
    },
    {
     "data": {
      "text/plain": [
       "[]"
      ]
     },
     "execution_count": 5,
     "metadata": {},
     "output_type": "execute_result"
    }
   ],
   "source": [
    "%%sql\n",
    "DELETE FROM Players;"
   ]
  },
  {
   "cell_type": "code",
   "execution_count": 107,
   "metadata": {},
   "outputs": [],
   "source": [
    "db.close()"
   ]
  },
  {
   "cell_type": "code",
   "execution_count": 32,
   "metadata": {},
   "outputs": [],
   "source": [
    "def print_players():\n",
    "    db=sqlite3.connect('HomeW.db')\n",
    "    cursor = db.cursor()\n",
    "    query = \"select * from Players\"\n",
    "    cursor.execute(query)\n",
    "    try:\n",
    "        for item in cursor.fetchall():\n",
    "            print(item)\n",
    "        return\n",
    "        pass\n",
    "    except:       \n",
    "        pass\n",
    "    db.close()"
   ]
  },
  {
   "cell_type": "code",
   "execution_count": 34,
   "metadata": {},
   "outputs": [
    {
     "name": "stdout",
     "output_type": "stream",
     "text": [
      "(1, '1', 27, 3, None, '2019-03-02')\n"
     ]
    }
   ],
   "source": [
    "print_players()"
   ]
  },
  {
   "cell_type": "code",
   "execution_count": 12,
   "metadata": {},
   "outputs": [
    {
     "name": "stdout",
     "output_type": "stream",
     "text": [
      " * sqlite:///HomeW.db\n",
      "Done.\n"
     ]
    },
    {
     "data": {
      "text/html": [
       "<table>\n",
       "    <tr>\n",
       "        <th>player_id</th>\n",
       "        <th>team_id</th>\n",
       "        <th>start_date</th>\n",
       "        <th>end_date</th>\n",
       "    </tr>\n",
       "</table>"
      ],
      "text/plain": [
       "[]"
      ]
     },
     "execution_count": 12,
     "metadata": {},
     "output_type": "execute_result"
    }
   ],
   "source": [
    "%%sql\n",
    "select * from PlayersArchive"
   ]
  },
  {
   "cell_type": "markdown",
   "metadata": {},
   "source": [
    "# Задание 7\n",
    "Написать функцию для перевода игрока в другую команду. Данная функция должна осуществить архивирование текущей записи в таблице игроков в таблицу players_archive с заполнение end_date - датой начала игры за новую команду - 1 день. А также осуществлять изменение поля в таблице Players. При возникновении ошибки должен осуществляться полный откат транзакции."
   ]
  },
  {
   "cell_type": "code",
   "execution_count": 2,
   "metadata": {},
   "outputs": [],
   "source": [
    "import sqlite3\n",
    "def change_team(name,team_name,end_date):\n",
    "    db=sqlite3.connect('HomeW.db')\n",
    "    cursor1 = db.cursor()\n",
    "    query1 = \"select team_id,start_date,id from Players where name = '{}'\".format(name)\n",
    "    cursor1.execute(query1)\n",
    "    team_id = \"\"\n",
    "    start_date = \"\"\n",
    "    player_id = \"\"\n",
    "    try:\n",
    "        data = cursor1.fetchone()\n",
    "        team_id = data[0]\n",
    "        start_date = data[1]\n",
    "        player_id = data[2]\n",
    "    except:\n",
    "        print(\"Error\")\n",
    "        return\n",
    "    print(start_date)\n",
    "    cursor2 = db.cursor()\n",
    "    query2 = \"update Players set team_id = (select id from Teams where name = '{0}') where name = '{1}'\".format(team_name,name)\n",
    "    cursor2.execute(query2)\n",
    "    try:\n",
    "        pass\n",
    "    except:\n",
    "        pass\n",
    "    cursor3= db.cursor()\n",
    "    query3 = \"insert into PlayersArchive(player_id,team_id,start_date,end_date) values ('{0}','{1}','{2}','{3}')\".format(player_id,team_id,start_date,end_date)\n",
    "    cursor3.execute(query3)\n",
    "    db.commit()\n",
    "    db.close()"
   ]
  },
  {
   "cell_type": "code",
   "execution_count": 3,
   "metadata": {},
   "outputs": [
    {
     "name": "stdout",
     "output_type": "stream",
     "text": [
      "2019-03-02\n"
     ]
    }
   ],
   "source": [
    "change_team(\"1\",\"asd\",\"asd\")"
   ]
  },
  {
   "cell_type": "code",
   "execution_count": null,
   "metadata": {},
   "outputs": [],
   "source": []
  }
 ],
 "metadata": {
  "kernelspec": {
   "display_name": "Python 3",
   "language": "python",
   "name": "python3"
  },
  "language_info": {
   "codemirror_mode": {
    "name": "ipython",
    "version": 3
   },
   "file_extension": ".py",
   "mimetype": "text/x-python",
   "name": "python",
   "nbconvert_exporter": "python",
   "pygments_lexer": "ipython3",
   "version": "3.7.2"
  }
 },
 "nbformat": 4,
 "nbformat_minor": 2
}
