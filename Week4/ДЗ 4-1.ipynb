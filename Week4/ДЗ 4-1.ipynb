{
 "cells": [
  {
   "cell_type": "markdown",
   "metadata": {},
   "source": [
    "Данное домашнее задание посвящено схеме базе данных, связанной с футбольным командами. Схема расположена в hw_diagram.jpg\n",
    "## Описание таблиц \n",
    "\n",
    "### Positions \n",
    "Позиции игроков\n",
    "id - уникальный идентификатор позиции \n",
    "Name - Название таблицы \n",
    "\n",
    "### Coaches \n",
    "Таблица тренеров \n",
    "id - уникальный идентификатор тренера\n",
    "Name - имя тренера \n",
    "\n",
    "## Teams \n",
    "Таблица команд \n",
    "id - уникальный идентификатор  команды \n",
    "Name - имя команды \n",
    "Location - расположение команды \n",
    "Coach_id - идентификатор тренера \n",
    "\n",
    "### Players \n",
    "Таблица игроков \n",
    "Id - уникальный идентификатор игрока \n",
    "Name - имя игрока \n",
    "Age - возраст игрока \n",
    "Position_id - идентификатор позиции \n",
    "Team_id - идентификатор команды \n",
    "Start_date - дата начала игры в команде \n",
    "\n",
    "### PlayersArchive \n",
    "Архив по игрокам (информация о том, в какой команде игрок играл ранее) \n",
    "player_id - идентификатор игрока \n",
    "team_id - идентификатор команды \n",
    "start_date - дата начала игры \n",
    "end_date - дата окончания игры"
   ]
  },
  {
   "cell_type": "markdown",
   "metadata": {},
   "source": [
    "# Задание 1\n",
    "Реализовать перенакатываемые sql-скрипты по схеме hw_diagram, приложенного ниже."
   ]
  },
  {
   "cell_type": "code",
   "execution_count": 3,
   "metadata": {},
   "outputs": [
    {
     "data": {
      "text/plain": [
       "'Connected: @HomeW.db'"
      ]
     },
     "execution_count": 3,
     "metadata": {},
     "output_type": "execute_result"
    }
   ],
   "source": [
    "%load_ext sql\n",
    "%sql sqlite:///HomeW.db"
   ]
  },
  {
   "cell_type": "code",
   "execution_count": 54,
   "metadata": {},
   "outputs": [
    {
     "name": "stdout",
     "output_type": "stream",
     "text": [
      " * sqlite:///HomeW.db\n",
      "Done.\n",
      "Done.\n",
      "Done.\n",
      "Done.\n",
      "Done.\n",
      "Done.\n",
      "Done.\n",
      "Done.\n",
      "Done.\n",
      "Done.\n",
      "Done.\n"
     ]
    },
    {
     "data": {
      "text/plain": [
       "[]"
      ]
     },
     "execution_count": 54,
     "metadata": {},
     "output_type": "execute_result"
    }
   ],
   "source": [
    "%%sql\n",
    "PRAGMA foreign_keys=ON;\n",
    "drop table if exists PlayersArchive;\n",
    "drop table if exists Players;\n",
    "drop table if exists Teams;\n",
    "drop table if exists Coaches;\n",
    "drop table if exists Positions;\n",
    "\n",
    "\n",
    "create table Coaches (\n",
    "    id integer not null primary key,\n",
    "    name varchar(30)\n",
    ");\n",
    "create table Positions(\n",
    "    id integer not null primary key,\n",
    "    name varchar(30)\n",
    ");\n",
    "create table Teams(\n",
    "    id integer not null primary key,\n",
    "    name varchar(30),\n",
    "    location varchar(30),\n",
    "    coach_id integer,\n",
    "    foreign key(coach_id) references Coaches(id)\n",
    ");\n",
    "create table Players(\n",
    "    id integer not null primary key,\n",
    "    name varchar(30),\n",
    "    age integer,\n",
    "    position_id integer,\n",
    "    team_id integer,\n",
    "    start_date date,\n",
    "    foreign key(position_id) references Positions(id)\n",
    ");\n",
    "\n",
    "create table PlayersArchive(\n",
    "    player_id integer,\n",
    "    team_id integer,\n",
    "    start_date date,\n",
    "    end_date date,\n",
    "    foreign key(player_id) references Players(id),\n",
    "    foreign key(team_id) references Teams(id)\n",
    ");\n"
   ]
  },
  {
   "cell_type": "markdown",
   "metadata": {},
   "source": [
    "# Задание 2\n",
    "Написать sql-скрипт, осуществляюший добавление всех возможных позиций игроков. (В данной задаче можно ограничится четырьмя - вратарь, защитник, полузащитник, нападающий)"
   ]
  },
  {
   "cell_type": "code",
   "execution_count": 55,
   "metadata": {},
   "outputs": [
    {
     "name": "stdout",
     "output_type": "stream",
     "text": [
      " * sqlite:///HomeW.db\n",
      "4 rows affected.\n"
     ]
    },
    {
     "data": {
      "text/plain": [
       "[]"
      ]
     },
     "execution_count": 55,
     "metadata": {},
     "output_type": "execute_result"
    }
   ],
   "source": [
    "%%sql\n",
    "insert into Positions (name) values (\"Goalkeeper\"),(\"Full-back\"),(\"Wing-back\"),(\"Forward\")"
   ]
  },
  {
   "cell_type": "markdown",
   "metadata": {},
   "source": [
    "# Задание 3\n",
    "Написать функцию, осуществляющую добавление тренера. На вход функции подается имя тренера. При невозможности вставки функция должна обработать данное исключение и вывести пользователю информацию о проблеме\n",
    "\n",
    "После написания функции необходимо добавить несколько тренеров для таблицы."
   ]
  },
  {
   "cell_type": "code",
   "execution_count": 4,
   "metadata": {},
   "outputs": [],
   "source": [
    "import sqlite3\n",
    "db=sqlite3.connect('HomeW.db')"
   ]
  },
  {
   "cell_type": "code",
   "execution_count": 22,
   "metadata": {},
   "outputs": [],
   "source": [
    "db.close()"
   ]
  },
  {
   "cell_type": "code",
   "execution_count": 13,
   "metadata": {},
   "outputs": [],
   "source": [
    "def add_coach(name):\n",
    "    cursor = db.cursor()\n",
    "    cursor1 = db.cursor()\n",
    "    cursor1.execute(\"select id from Coaches where name == ?\",(name,))\n",
    "    try:\n",
    "        r = cursor1.fetchone()[0]\n",
    "        print(\"Table contains this Coach with id = \",r)\n",
    "    except TypeError:\n",
    "        cursor.execute(\"insert into Coaches(name) values(?)\",(name,))\n",
    "        db.commit()\n",
    "    "
   ]
  },
  {
   "cell_type": "code",
   "execution_count": 14,
   "metadata": {},
   "outputs": [
    {
     "name": "stdout",
     "output_type": "stream",
     "text": [
      "Table contains this Coach with id =  1\n",
      "Table contains this Coach with id =  2\n",
      "Table contains this Coach with id =  3\n"
     ]
    }
   ],
   "source": [
    "add_coach(\"Coach_0\")\n",
    "add_coach(\"Coach_2\")\n",
    "add_coach(\"Coach_3\")"
   ]
  },
  {
   "cell_type": "code",
   "execution_count": 36,
   "metadata": {},
   "outputs": [
    {
     "name": "stdout",
     "output_type": "stream",
     "text": [
      " * sqlite:///HomeW.db\n",
      "Done.\n"
     ]
    },
    {
     "data": {
      "text/html": [
       "<table>\n",
       "    <tr>\n",
       "        <th>id</th>\n",
       "        <th>name</th>\n",
       "    </tr>\n",
       "    <tr>\n",
       "        <td>1</td>\n",
       "        <td>Coach_0</td>\n",
       "    </tr>\n",
       "    <tr>\n",
       "        <td>2</td>\n",
       "        <td>Coach_2</td>\n",
       "    </tr>\n",
       "    <tr>\n",
       "        <td>3</td>\n",
       "        <td>Coach_3</td>\n",
       "    </tr>\n",
       "</table>"
      ],
      "text/plain": [
       "[(1, 'Coach_0'), (2, 'Coach_2'), (3, 'Coach_3')]"
      ]
     },
     "execution_count": 36,
     "metadata": {},
     "output_type": "execute_result"
    }
   ],
   "source": [
    "%%sql\n",
    "select * from Coaches"
   ]
  },
  {
   "cell_type": "markdown",
   "metadata": {},
   "source": [
    "# Задание 4\n",
    "\n",
    "Написать функцию, осуществляющую добавление команды. На вход функция принимает (имя команды, местоположение, имя тренера).\n",
    "На выходе должна быть добавлена команда.\n",
    "\n",
    "После написания функции необходимо добавить несколько команд"
   ]
  },
  {
   "cell_type": "code",
   "execution_count": 15,
   "metadata": {},
   "outputs": [],
   "source": [
    "def add_team(name,location,coach_name):\n",
    "    cursor = db.cursor()\n",
    "    query = \"insert into Teams(name,location,coach_id) values('{0}','{1}',(select id from Coaches where name = '{2}'))\".format(name,location,coach_name)\n",
    "    cursor.execute(query)\n",
    "    db.commit()"
   ]
  },
  {
   "cell_type": "code",
   "execution_count": 16,
   "metadata": {},
   "outputs": [],
   "source": [
    "add_team(\"team_1\",\"Moscow\",\"Coach_0\")\n",
    "add_team(\"team_2\",\"Moscow\",\"Coach_2\")\n",
    "add_team(\"team_3\",\"Moscow\",\"Coach_3\")"
   ]
  },
  {
   "cell_type": "markdown",
   "metadata": {},
   "source": [
    "# Задание 5\n",
    "\n",
    "Написать функцию, осуществляющую обновление информации о команде. У функции на входе должен быть один обязательный параметр - название команды и два необязательных параметра - имя тренера и местоположение. При этом хотя бы один из необязательных параметров должен быть заполнен. Функция должна обновлять значение переданных необязательных параметров.\n",
    "\n",
    "После написания функции вызовите данную функцию несколько раз"
   ]
  },
  {
   "cell_type": "code",
   "execution_count": 17,
   "metadata": {},
   "outputs": [],
   "source": [
    "def update_team(team_name,coach_name=None,location=None):\n",
    "    cursor = db.cursor()\n",
    "    if coach_name != None:\n",
    "        query = \"update Teams set coach_id = (select id from Coaches where name = '{0}') where name = '{1}'\".format(coach_name,team_name)\n",
    "        cursor.execute(query)\n",
    "        db.commit()\n",
    "    if location != None:\n",
    "        query = \"update Teams set location =  '{0}' where name = '{1}' \".format(location,team_name)\n",
    "        cursor.execute(query)\n",
    "        db.commit()\n",
    "    "
   ]
  },
  {
   "cell_type": "code",
   "execution_count": 18,
   "metadata": {
    "scrolled": true
   },
   "outputs": [],
   "source": [
    "update_team(\"team_2\",coach_name=\"Coach_2\")\n",
    "update_team(\"team_1\",location=\"New York\")"
   ]
  },
  {
   "cell_type": "code",
   "execution_count": 19,
   "metadata": {},
   "outputs": [
    {
     "name": "stdout",
     "output_type": "stream",
     "text": [
      " * sqlite:///HomeW.db\n",
      "Done.\n"
     ]
    },
    {
     "data": {
      "text/html": [
       "<table>\n",
       "    <tr>\n",
       "        <th>id</th>\n",
       "        <th>name</th>\n",
       "        <th>location</th>\n",
       "        <th>coach_id</th>\n",
       "    </tr>\n",
       "    <tr>\n",
       "        <td>1</td>\n",
       "        <td>team_1</td>\n",
       "        <td>New York</td>\n",
       "        <td>1</td>\n",
       "    </tr>\n",
       "    <tr>\n",
       "        <td>2</td>\n",
       "        <td>team_2</td>\n",
       "        <td>Moscow</td>\n",
       "        <td>2</td>\n",
       "    </tr>\n",
       "    <tr>\n",
       "        <td>3</td>\n",
       "        <td>team_3</td>\n",
       "        <td>Moscow</td>\n",
       "        <td>3</td>\n",
       "    </tr>\n",
       "    <tr>\n",
       "        <td>4</td>\n",
       "        <td>team_1</td>\n",
       "        <td>New York</td>\n",
       "        <td>1</td>\n",
       "    </tr>\n",
       "    <tr>\n",
       "        <td>5</td>\n",
       "        <td>team_2</td>\n",
       "        <td>Moscow</td>\n",
       "        <td>2</td>\n",
       "    </tr>\n",
       "    <tr>\n",
       "        <td>6</td>\n",
       "        <td>team_3</td>\n",
       "        <td>Moscow</td>\n",
       "        <td>3</td>\n",
       "    </tr>\n",
       "</table>"
      ],
      "text/plain": [
       "[(1, 'team_1', 'New York', 1),\n",
       " (2, 'team_2', 'Moscow', 2),\n",
       " (3, 'team_3', 'Moscow', 3),\n",
       " (4, 'team_1', 'New York', 1),\n",
       " (5, 'team_2', 'Moscow', 2),\n",
       " (6, 'team_3', 'Moscow', 3)]"
      ]
     },
     "execution_count": 19,
     "metadata": {},
     "output_type": "execute_result"
    }
   ],
   "source": [
    "%%sql\n",
    " select *from Teams"
   ]
  },
  {
   "cell_type": "markdown",
   "metadata": {},
   "source": [
    "# Задание 6\n",
    "\n",
    "Написать функцию, осуществляющую добавление нового футболиста в таблицу игроков. На входе (имя, возраст, название позиции, название команды, дата перехода в команду(необязательный параметр)). Если дата перехода не указана, то нужно использовать текущую дату. Предусмотреть различные ошибки (такие как неверное имя позиции, неверное название команды, возраст < 10 и > 50 и т.п.)\n",
    "\n",
    "После написания функции необходимо добавить несколько игроков."
   ]
  },
  {
   "cell_type": "code",
   "execution_count": 31,
   "metadata": {},
   "outputs": [],
   "source": [
    "def add_player(name,age,position,team_name,date=None):\n",
    "    cursor= db.cursor()\n",
    "    if(age > 10 and age <50):\n",
    "        p_id = None\n",
    "        t_id = None\n",
    "        cursor_p = db.cursor()\n",
    "        query_p = \"select id from Positions where name ='{}' \".format(position)\n",
    "        cursor_p.execute(query_p)\n",
    "        try:\n",
    "            p_id= cursor_p.fetchone()[0]\n",
    "        except:\n",
    "            print(\"Wrong position\")\n",
    "            return;\n",
    "        cursor_t = db.cursor()\n",
    "        query_t = \"select id from Teams where name = '{}'\".format(team_name)\n",
    "        cursor_t.execute(query_t)\n",
    "        try:\n",
    "            t_id= cursor_t.fetchone()[0]\n",
    "        except:\n",
    "            print(\"Wrong team\")\n",
    "            return;\n",
    "        if date == None:\n",
    "            cursor_d = db.cursor()\n",
    "            cursor_d.execute(\"select date('now')\")\n",
    "            da = cursor_d.fetchone()[0]\n",
    "            query= \"insert into Players(name,age,position_id,team_id,start_date) values('{0}','{1}','{2}','{3}','{4}')\".format(name,age,p_id,t_id,da)\n",
    "        else:\n",
    "            query= \"insert into Players(name,age,position_id,team_id,start_date) values('{0}','{1}','{2}','{3}','{4}')\".format(name,age,p_id,t_id,date)\n",
    "        cursor.execute(query)\n",
    "        db.commit()\n",
    "    else:\n",
    "        print(\"Wrong age\")"
   ]
  },
  {
   "cell_type": "code",
   "execution_count": 33,
   "metadata": {},
   "outputs": [],
   "source": [
    "add_player(\"Player_1\",11,\"Goalkeeper\",\"team_1\")\n",
    "add_player(\"Player_3\",45,\"Goalkeeper\",\"team_2\",\"2017-11-23\")"
   ]
  },
  {
   "cell_type": "code",
   "execution_count": 34,
   "metadata": {},
   "outputs": [
    {
     "name": "stdout",
     "output_type": "stream",
     "text": [
      " * sqlite:///HomeW.db\n",
      "Done.\n"
     ]
    },
    {
     "data": {
      "text/html": [
       "<table>\n",
       "    <tr>\n",
       "        <th>id</th>\n",
       "        <th>name</th>\n",
       "        <th>age</th>\n",
       "        <th>position_id</th>\n",
       "        <th>team_id</th>\n",
       "        <th>start_date</th>\n",
       "    </tr>\n",
       "    <tr>\n",
       "        <td>1</td>\n",
       "        <td>Player_1</td>\n",
       "        <td>10</td>\n",
       "        <td>1</td>\n",
       "        <td>1</td>\n",
       "        <td>None</td>\n",
       "    </tr>\n",
       "    <tr>\n",
       "        <td>2</td>\n",
       "        <td>Player_1</td>\n",
       "        <td>11</td>\n",
       "        <td>Goalkeeper</td>\n",
       "        <td>team_1</td>\n",
       "        <td>None</td>\n",
       "    </tr>\n",
       "    <tr>\n",
       "        <td>3</td>\n",
       "        <td>Player_1</td>\n",
       "        <td>11</td>\n",
       "        <td>Goalkeeper</td>\n",
       "        <td>team_1</td>\n",
       "        <td>None</td>\n",
       "    </tr>\n",
       "    <tr>\n",
       "        <td>4</td>\n",
       "        <td>Player_1</td>\n",
       "        <td>11</td>\n",
       "        <td>None</td>\n",
       "        <td>None</td>\n",
       "        <td>None</td>\n",
       "    </tr>\n",
       "    <tr>\n",
       "        <td>5</td>\n",
       "        <td>Player_1</td>\n",
       "        <td>11</td>\n",
       "        <td>1</td>\n",
       "        <td>1</td>\n",
       "        <td>None</td>\n",
       "    </tr>\n",
       "    <tr>\n",
       "        <td>6</td>\n",
       "        <td>Player_1</td>\n",
       "        <td>11</td>\n",
       "        <td>1</td>\n",
       "        <td>1</td>\n",
       "        <td>(select date(now))</td>\n",
       "    </tr>\n",
       "    <tr>\n",
       "        <td>7</td>\n",
       "        <td>Player_1</td>\n",
       "        <td>11</td>\n",
       "        <td>1</td>\n",
       "        <td>1</td>\n",
       "        <td>2018-12-14</td>\n",
       "    </tr>\n",
       "    <tr>\n",
       "        <td>8</td>\n",
       "        <td>Player_1</td>\n",
       "        <td>11</td>\n",
       "        <td>1</td>\n",
       "        <td>1</td>\n",
       "        <td>2018-12-14</td>\n",
       "    </tr>\n",
       "    <tr>\n",
       "        <td>9</td>\n",
       "        <td>Player_1</td>\n",
       "        <td>11</td>\n",
       "        <td>1</td>\n",
       "        <td>1</td>\n",
       "        <td>2018-12-14</td>\n",
       "    </tr>\n",
       "    <tr>\n",
       "        <td>10</td>\n",
       "        <td>Player_1</td>\n",
       "        <td>11</td>\n",
       "        <td>1</td>\n",
       "        <td>1</td>\n",
       "        <td>2018-12-14</td>\n",
       "    </tr>\n",
       "    <tr>\n",
       "        <td>11</td>\n",
       "        <td>Player_1</td>\n",
       "        <td>11</td>\n",
       "        <td>1</td>\n",
       "        <td>1</td>\n",
       "        <td>2018-12-14</td>\n",
       "    </tr>\n",
       "    <tr>\n",
       "        <td>12</td>\n",
       "        <td>Player_3</td>\n",
       "        <td>45</td>\n",
       "        <td>1</td>\n",
       "        <td>2</td>\n",
       "        <td>2017-11-23</td>\n",
       "    </tr>\n",
       "</table>"
      ],
      "text/plain": [
       "[(1, 'Player_1', 10, 1, 1, None),\n",
       " (2, 'Player_1', 11, 'Goalkeeper', 'team_1', None),\n",
       " (3, 'Player_1', 11, 'Goalkeeper', 'team_1', None),\n",
       " (4, 'Player_1', 11, 'None', 'None', None),\n",
       " (5, 'Player_1', 11, 1, 1, None),\n",
       " (6, 'Player_1', 11, 1, 1, '(select date(now))'),\n",
       " (7, 'Player_1', 11, 1, 1, '2018-12-14'),\n",
       " (8, 'Player_1', 11, 1, 1, '2018-12-14'),\n",
       " (9, 'Player_1', 11, 1, 1, '2018-12-14'),\n",
       " (10, 'Player_1', 11, 1, 1, '2018-12-14'),\n",
       " (11, 'Player_1', 11, 1, 1, '2018-12-14'),\n",
       " (12, 'Player_3', 45, 1, 2, '2017-11-23')]"
      ]
     },
     "execution_count": 34,
     "metadata": {},
     "output_type": "execute_result"
    }
   ],
   "source": [
    "%%sql\n",
    "select * from Players"
   ]
  },
  {
   "cell_type": "markdown",
   "metadata": {},
   "source": [
    "# Задание 7\n",
    "Написать функцию для перевода игрока в другую команду. Данная функция должна осуществить архивирование текущей записи в таблице игроков в таблицу players_archive с заполнение end_date - датой начала игры за новую команду - 1 день. А также осуществлять изменение поля в таблице Players. При возникновении ошибки должен осуществляться полный откат транзакции."
   ]
  },
  {
   "cell_type": "code",
   "execution_count": 44,
   "metadata": {},
   "outputs": [],
   "source": [
    "def change_team(name,team_name,end_date):\n",
    "    cursor1 = db.cursor()\n",
    "    query1 = \"select team_id,start_date,id from Players where name = '{}'\".format(name)\n",
    "    cursor1.execute(query1)\n",
    "    team_id = \"\"\n",
    "    start_date = \"\"\n",
    "    player_id = \"\"\n",
    "    try:\n",
    "        data = cursor1.fetchone()\n",
    "        team_id = data[0]\n",
    "        start_date = data[1]\n",
    "        player_id = data[2]\n",
    "    except:\n",
    "        print(\"Error\")\n",
    "        return\n",
    "    print(start_date)\n",
    "    cursor2 = db.cursor()\n",
    "    query2 = \"update Players set team_id = (select id from Teams where name = '{0}') where name = '{1}'\".format(team_name,name)\n",
    "    cursor2.execute(query2)\n",
    "    try:\n",
    "        pass\n",
    "    except:\n",
    "        pass\n",
    "    cursor3= db.curosr()\n",
    "    query3 = \"insert into Players_archive(player_id,team_id,start_date,end_date) values ('{0}','{1}','{2}','{3}')\".format(player_id,team_id,start_date,end_date)\n",
    "    cursor3.execute(query3)\n",
    "    db.commit()"
   ]
  },
  {
   "cell_type": "code",
   "execution_count": 45,
   "metadata": {},
   "outputs": [
    {
     "name": "stdout",
     "output_type": "stream",
     "text": [
      "2017-11-23\n"
     ]
    }
   ],
   "source": [
    "change_team(\"Player_3\",\"asd\",\"asd\")"
   ]
  },
  {
   "cell_type": "code",
   "execution_count": null,
   "metadata": {},
   "outputs": [],
   "source": []
  }
 ],
 "metadata": {
  "kernelspec": {
   "display_name": "Python 3",
   "language": "python",
   "name": "python3"
  },
  "language_info": {
   "codemirror_mode": {
    "name": "ipython",
    "version": 3
   },
   "file_extension": ".py",
   "mimetype": "text/x-python",
   "name": "python",
   "nbconvert_exporter": "python",
   "pygments_lexer": "ipython3",
   "version": "3.7.1"
  }
 },
 "nbformat": 4,
 "nbformat_minor": 2
}
