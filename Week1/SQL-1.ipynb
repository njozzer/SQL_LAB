{
 "cells": [
  {
   "cell_type": "markdown",
   "metadata": {
    "slideshow": {
     "slide_type": "slide"
    }
   },
   "source": [
    "Лекция 1 Базовый SQL \n",
    "======================"
   ]
  },
  {
   "cell_type": "code",
   "execution_count": 1,
   "metadata": {
    "slideshow": {
     "slide_type": "slide"
    }
   },
   "outputs": [
    {
     "data": {
      "text/plain": [
       "'Connected: None@None'"
      ]
     },
     "execution_count": 1,
     "metadata": {},
     "output_type": "execute_result"
    }
   ],
   "source": [
    "%load_ext sql\n",
    "%sql sqlite://"
   ]
  },
  {
   "cell_type": "markdown",
   "metadata": {
    "slideshow": {
     "slide_type": "slide"
    }
   },
   "source": [
    "Давайте создадим таблицу, заполним ее и сделаем какой-нибудь запрос!"
   ]
  },
  {
   "cell_type": "code",
   "execution_count": 4,
   "metadata": {
    "slideshow": {
     "slide_type": "fragment"
    }
   },
   "outputs": [
    {
     "name": "stdout",
     "output_type": "stream",
     "text": [
      "Done.\n",
      "0 rows affected.\n",
      "1 rows affected.\n",
      "1 rows affected.\n",
      "1 rows affected.\n",
      "1 rows affected.\n"
     ]
    },
    {
     "data": {
      "text/plain": [
       "[]"
      ]
     },
     "execution_count": 4,
     "metadata": {},
     "output_type": "execute_result"
    }
   ],
   "source": [
    "%%sql drop table if exists product;\n",
    "create table product(\n",
    "       pname        varchar primary key, -- имя продукта\n",
    "       price        money,               -- цена продукта\n",
    "       category     varchar,             -- категория\n",
    "       manufacturer varchar NOT NULL     -- производитель\n",
    ");\n",
    "insert into product values('Пряник', 19.99, 'Еда', 'Тульский пряник');\n",
    "insert into product values('Тетрадь', 29.99, 'Канцелярия', 'Эксмо');\n",
    "insert into product values('Печенье', 149.99, 'Еда', 'WagonWiels');\n",
    "insert into product values('Планшет', 203.99, 'Техника', 'Zua');"
   ]
  },
  {
   "cell_type": "markdown",
   "metadata": {
    "slideshow": {
     "slide_type": "slide"
    }
   },
   "source": [
    "Посмотрим на полученную таблицу."
   ]
  },
  {
   "cell_type": "code",
   "execution_count": 5,
   "metadata": {
    "slideshow": {
     "slide_type": "fragment"
    }
   },
   "outputs": [
    {
     "name": "stdout",
     "output_type": "stream",
     "text": [
      "Done.\n"
     ]
    },
    {
     "data": {
      "text/html": [
       "<table>\n",
       "    <tr>\n",
       "        <th>pname</th>\n",
       "        <th>price</th>\n",
       "        <th>category</th>\n",
       "        <th>manufacturer</th>\n",
       "    </tr>\n",
       "    <tr>\n",
       "        <td>Пряник</td>\n",
       "        <td>19.99</td>\n",
       "        <td>Еда</td>\n",
       "        <td>Тульский пряник</td>\n",
       "    </tr>\n",
       "    <tr>\n",
       "        <td>Тетрадь</td>\n",
       "        <td>29.99</td>\n",
       "        <td>Канцелярия</td>\n",
       "        <td>Эксмо</td>\n",
       "    </tr>\n",
       "    <tr>\n",
       "        <td>Печенье</td>\n",
       "        <td>149.99</td>\n",
       "        <td>Еда</td>\n",
       "        <td>WagonWiels</td>\n",
       "    </tr>\n",
       "    <tr>\n",
       "        <td>Планшет</td>\n",
       "        <td>203.99</td>\n",
       "        <td>Техника</td>\n",
       "        <td>Zua</td>\n",
       "    </tr>\n",
       "</table>"
      ],
      "text/plain": [
       "[('Пряник', 19.99, 'Еда', 'Тульский пряник'),\n",
       " ('Тетрадь', 29.99, 'Канцелярия', 'Эксмо'),\n",
       " ('Печенье', 149.99, 'Еда', 'WagonWiels'),\n",
       " ('Планшет', 203.99, 'Техника', 'Zua')]"
      ]
     },
     "execution_count": 5,
     "metadata": {},
     "output_type": "execute_result"
    }
   ],
   "source": [
    "%sql select * from product;"
   ]
  },
  {
   "cell_type": "markdown",
   "metadata": {
    "slideshow": {
     "slide_type": "slide"
    }
   },
   "source": [
    "Немного SQL терминологии\n",
    "--------------------------\n",
    "* _имя_ таблицы - product.\n",
    "* Каждая строка таблицы называется _строкой_ или _кортеж_. \n",
    "* Заметьте, что все кортежи имеют _поля_ или _атрибуты_.\n",
    "* Количество строк называет _мощностью_, в то время как количество атрибутов _арностью_ "
   ]
  },
  {
   "cell_type": "markdown",
   "metadata": {
    "slideshow": {
     "slide_type": "subslide"
    }
   },
   "source": [
    "Соглашения схемы\n",
    "-----------------\n",
    "* Схема таблицы продукта может быть описана следующим образом:\n",
    "\n",
    "> product(<u>pname</u>, price, category, manufacturer)\n",
    "\n",
    "Подчеркнутое множество атрибутов формирует  _ключ_.\n",
    "\n",
    "* В этом случае ключ - pname. Если имя продукта было бы только уникальным для указнного производителя мы бы написали:\n",
    "\n",
    "> product(<u>pname</u>, price, category, <u>manufacturer</u>)\n"
   ]
  },
  {
   "cell_type": "markdown",
   "metadata": {
    "slideshow": {
     "slide_type": "subslide"
    }
   },
   "source": [
    "Описание таблиц\n",
    "----------------\n",
    "* Кортеж = запись\n",
    "  * Ограничение: все атрибуты - атомарного типа\n",
    "  * Существует множество атомарных типов для SQL, например, по postgresQL можно посмотреть [здесь](http://www.postgresql.org/docs/9.4/static/datatype.html)\n",
    "  .\n",
    "\n",
    "\n",
    "* Таблица = мультимножество кортежей \n",
    "  * Мультимножество похоже на список\n",
    "  * ... Но по определению оно не упорядочено: \n",
    "    * нет first(), нет next(), нет last()."
   ]
  },
  {
   "cell_type": "markdown",
   "metadata": {
    "slideshow": {
     "slide_type": "subslide"
    }
   },
   "source": [
    "# Итог\n",
    "* Создана база данных  -- сделано!\n",
    "\n",
    "* Простые запросы -- сейчас!\n",
    "\n",
    "* Запрос с более чем одной таблицей -- далее!\n"
   ]
  },
  {
   "cell_type": "markdown",
   "metadata": {
    "slideshow": {
     "slide_type": "slide"
    }
   },
   "source": [
    "# Простые запросы\n",
    "* Вспомним основы SQL на примере\n",
    "* В интернет очень много SQL туториалов, сейчас мы всего лишь вспомним базовые вещи"
   ]
  },
  {
   "cell_type": "markdown",
   "metadata": {
    "slideshow": {
     "slide_type": "slide"
    }
   },
   "source": [
    "> SELECT <Множество атрибутов><br>\n",
    "> FROM <список таблиц и условие на соединение><br>\n",
    "> WHERE <список условий>\n",
    "\n",
    "Это простейший SELECT-FROM-WHERE (SFW) блок. Давайте посмотрим на примерах!"
   ]
  },
  {
   "cell_type": "code",
   "execution_count": 6,
   "metadata": {
    "slideshow": {
     "slide_type": "subslide"
    }
   },
   "outputs": [
    {
     "name": "stdout",
     "output_type": "stream",
     "text": [
      "Done.\n"
     ]
    },
    {
     "data": {
      "text/html": [
       "<table>\n",
       "    <tr>\n",
       "        <th>pname</th>\n",
       "        <th>price</th>\n",
       "        <th>category</th>\n",
       "        <th>manufacturer</th>\n",
       "    </tr>\n",
       "    <tr>\n",
       "        <td>Тетрадь</td>\n",
       "        <td>29.99</td>\n",
       "        <td>Канцелярия</td>\n",
       "        <td>Эксмо</td>\n",
       "    </tr>\n",
       "</table>"
      ],
      "text/plain": [
       "[('Тетрадь', 29.99, 'Канцелярия', 'Эксмо')]"
      ]
     },
     "execution_count": 6,
     "metadata": {},
     "output_type": "execute_result"
    }
   ],
   "source": [
    "%%sql\n",
    "SELECT * from Product \n",
    "WHERE  category = 'Канцелярия' and manufacturer = 'Эксмо'\n"
   ]
  },
  {
   "cell_type": "markdown",
   "metadata": {
    "slideshow": {
     "slide_type": "slide"
    }
   },
   "source": [
    "Посмотрим на примеры *проекции*, то есть получим только несколько атрибутов запроса."
   ]
  },
  {
   "cell_type": "code",
   "execution_count": 9,
   "metadata": {
    "slideshow": {
     "slide_type": "fragment"
    }
   },
   "outputs": [
    {
     "name": "stdout",
     "output_type": "stream",
     "text": [
      "Done.\n"
     ]
    },
    {
     "data": {
      "text/html": [
       "<table>\n",
       "    <tr>\n",
       "        <th>pname</th>\n",
       "        <th>price</th>\n",
       "        <th>manufacturer</th>\n",
       "    </tr>\n",
       "    <tr>\n",
       "        <td>Пряник</td>\n",
       "        <td>19.99</td>\n",
       "        <td>Тульский пряник</td>\n",
       "    </tr>\n",
       "    <tr>\n",
       "        <td>Тетрадь</td>\n",
       "        <td>29.99</td>\n",
       "        <td>Эксмо</td>\n",
       "    </tr>\n",
       "    <tr>\n",
       "        <td>Печенье</td>\n",
       "        <td>149.99</td>\n",
       "        <td>WagonWiels</td>\n",
       "    </tr>\n",
       "    <tr>\n",
       "        <td>Планшет</td>\n",
       "        <td>203.99</td>\n",
       "        <td>Zua</td>\n",
       "    </tr>\n",
       "</table>"
      ],
      "text/plain": [
       "[('Пряник', 19.99, 'Тульский пряник'),\n",
       " ('Тетрадь', 29.99, 'Эксмо'),\n",
       " ('Печенье', 149.99, 'WagonWiels'),\n",
       " ('Планшет', 203.99, 'Zua')]"
      ]
     },
     "execution_count": 9,
     "metadata": {},
     "output_type": "execute_result"
    }
   ],
   "source": [
    "%%sql \n",
    "SELECT Pname, Price, Manufacturer\n",
    "FROM Product;"
   ]
  },
  {
   "cell_type": "markdown",
   "metadata": {
    "slideshow": {
     "slide_type": "subslide"
    }
   },
   "source": [
    "* На выходе *все еще* таблица и ее схема -\n",
    "> Answer(pname, price, manufacturer)"
   ]
  },
  {
   "cell_type": "markdown",
   "metadata": {
    "slideshow": {
     "slide_type": "slide"
    }
   },
   "source": [
    "* Можно объединять выборку и проекцию"
   ]
  },
  {
   "cell_type": "code",
   "execution_count": 14,
   "metadata": {
    "slideshow": {
     "slide_type": "fragment"
    }
   },
   "outputs": [
    {
     "name": "stdout",
     "output_type": "stream",
     "text": [
      "Done.\n"
     ]
    },
    {
     "data": {
      "text/html": [
       "<table>\n",
       "    <tr>\n",
       "        <th>pname</th>\n",
       "        <th>price</th>\n",
       "        <th>manufacturer</th>\n",
       "    </tr>\n",
       "    <tr>\n",
       "        <td>Пряник</td>\n",
       "        <td>19.99</td>\n",
       "        <td>Тульский пряник</td>\n",
       "    </tr>\n",
       "    <tr>\n",
       "        <td>Печенье</td>\n",
       "        <td>149.99</td>\n",
       "        <td>WagonWiels</td>\n",
       "    </tr>\n",
       "</table>"
      ],
      "text/plain": [
       "[('Пряник', 19.99, 'Тульский пряник'), ('Печенье', 149.99, 'WagonWiels')]"
      ]
     },
     "execution_count": 14,
     "metadata": {},
     "output_type": "execute_result"
    }
   ],
   "source": [
    "%%sql\n",
    "SELECT Pname, Price, Manufacturer\n",
    "FROM Product\n",
    "WHERE category='Еда';"
   ]
  },
  {
   "cell_type": "markdown",
   "metadata": {
    "slideshow": {
     "slide_type": "slide"
    }
   },
   "source": [
    "На выходе запроса к таблице - снова таблица \n",
    "---------------------------------"
   ]
  },
  {
   "cell_type": "code",
   "execution_count": 16,
   "metadata": {
    "slideshow": {
     "slide_type": "subslide"
    }
   },
   "outputs": [
    {
     "name": "stdout",
     "output_type": "stream",
     "text": [
      "Done.\n"
     ]
    },
    {
     "data": {
      "text/html": [
       "<table>\n",
       "    <tr>\n",
       "        <th>manufacturer</th>\n",
       "        <th>pname</th>\n",
       "        <th>price</th>\n",
       "    </tr>\n",
       "    <tr>\n",
       "        <td>WagonWiels</td>\n",
       "        <td>Печенье</td>\n",
       "        <td>149.99</td>\n",
       "    </tr>\n",
       "</table>"
      ],
      "text/plain": [
       "[('WagonWiels', 'Печенье', 149.99)]"
      ]
     },
     "execution_count": 16,
     "metadata": {},
     "output_type": "execute_result"
    }
   ],
   "source": [
    "%%sql\n",
    "SELECT\n",
    "    p.manufacturer, p.pname, p.price\n",
    "FROM \n",
    "    (SELECT distinct p0.category\n",
    "     FROM Product p0\n",
    "     WHERE p0.price < 20.00) cp, -- this is a nested query!\n",
    "    Product p\n",
    "WHERE \n",
    "    p.category = cp.category and p.price > 20.00"
   ]
  },
  {
   "cell_type": "markdown",
   "metadata": {
    "slideshow": {
     "slide_type": "slide"
    }
   },
   "source": [
    "Небольшие детали\n",
    "--------------\n",
    "\n",
    "* Некоторые элементы регистро-независимые:\n",
    "  * Одно и то же: SELECT  Select  select\n",
    "  * Одно и то же: Product   product\n",
    "  * Разные: ‘Seattle’  ‘seattle’\n",
    "  \n",
    "\n",
    "* Константы (одинарные кавычки)\n",
    "  * ‘abc’  - да\n",
    "  * “abc” - нет\n"
   ]
  },
  {
   "cell_type": "code",
   "execution_count": 17,
   "metadata": {},
   "outputs": [
    {
     "name": "stdout",
     "output_type": "stream",
     "text": [
      "Done.\n"
     ]
    },
    {
     "data": {
      "text/html": [
       "<table>\n",
       "    <tr>\n",
       "        <th>pname</th>\n",
       "        <th>price</th>\n",
       "        <th>category</th>\n",
       "        <th>manufacturer</th>\n",
       "    </tr>\n",
       "    <tr>\n",
       "        <td>Пряник</td>\n",
       "        <td>19.99</td>\n",
       "        <td>Еда</td>\n",
       "        <td>Тульский пряник</td>\n",
       "    </tr>\n",
       "    <tr>\n",
       "        <td>Тетрадь</td>\n",
       "        <td>29.99</td>\n",
       "        <td>Канцелярия</td>\n",
       "        <td>Эксмо</td>\n",
       "    </tr>\n",
       "    <tr>\n",
       "        <td>Печенье</td>\n",
       "        <td>149.99</td>\n",
       "        <td>Еда</td>\n",
       "        <td>WagonWiels</td>\n",
       "    </tr>\n",
       "    <tr>\n",
       "        <td>Планшет</td>\n",
       "        <td>203.99</td>\n",
       "        <td>Техника</td>\n",
       "        <td>Zua</td>\n",
       "    </tr>\n",
       "</table>"
      ],
      "text/plain": [
       "[('Пряник', 19.99, 'Еда', 'Тульский пряник'),\n",
       " ('Тетрадь', 29.99, 'Канцелярия', 'Эксмо'),\n",
       " ('Печенье', 149.99, 'Еда', 'WagonWiels'),\n",
       " ('Планшет', 203.99, 'Техника', 'Zua')]"
      ]
     },
     "execution_count": 17,
     "metadata": {},
     "output_type": "execute_result"
    }
   ],
   "source": [
    "%sql select * from product;"
   ]
  },
  {
   "cell_type": "markdown",
   "metadata": {
    "slideshow": {
     "slide_type": "slide"
    }
   },
   "source": [
    "LIKE\n",
    "====\n",
    "\n",
    "Опертоор LIKE нужен для поиска строк:\n",
    "    \n",
    "> SELECT *\n",
    "> FROM Products\n",
    "> WHERE pname like '%gizmo%'\n",
    "\n",
    "Like - \"сильно урезанный\" regexp\n",
    "* % - сколько угодно символов\n",
    "* \\_ ровно один символ\n",
    "* оператор LIKE - регистрозависимый"
   ]
  },
  {
   "cell_type": "code",
   "execution_count": 19,
   "metadata": {
    "slideshow": {
     "slide_type": "slide"
    }
   },
   "outputs": [
    {
     "name": "stdout",
     "output_type": "stream",
     "text": [
      "Done.\n"
     ]
    },
    {
     "data": {
      "text/html": [
       "<table>\n",
       "    <tr>\n",
       "        <th>pname</th>\n",
       "        <th>price</th>\n",
       "        <th>category</th>\n",
       "        <th>manufacturer</th>\n",
       "    </tr>\n",
       "    <tr>\n",
       "        <td>Пряник</td>\n",
       "        <td>19.99</td>\n",
       "        <td>Еда</td>\n",
       "        <td>Тульский пряник</td>\n",
       "    </tr>\n",
       "    <tr>\n",
       "        <td>Печенье</td>\n",
       "        <td>149.99</td>\n",
       "        <td>Еда</td>\n",
       "        <td>WagonWiels</td>\n",
       "    </tr>\n",
       "</table>"
      ],
      "text/plain": [
       "[('Пряник', 19.99, 'Еда', 'Тульский пряник'),\n",
       " ('Печенье', 149.99, 'Еда', 'WagonWiels')]"
      ]
     },
     "execution_count": 19,
     "metadata": {},
     "output_type": "execute_result"
    }
   ],
   "source": [
    "%%sql\n",
    "SELECT *  FROM product\n",
    "where category LIKE '%да%'"
   ]
  },
  {
   "cell_type": "markdown",
   "metadata": {
    "slideshow": {
     "slide_type": "slide"
    }
   },
   "source": [
    "Убрать дубли\n",
    "---------------------\n",
    "* Дубли не всегда хорошо, и иногда их стоит убирать\n",
    "  * Помните, что таблицы - _мультимножества_!"
   ]
  },
  {
   "cell_type": "code",
   "execution_count": 20,
   "metadata": {
    "slideshow": {
     "slide_type": "subslide"
    }
   },
   "outputs": [
    {
     "name": "stdout",
     "output_type": "stream",
     "text": [
      "Done.\n"
     ]
    },
    {
     "data": {
      "text/html": [
       "<table>\n",
       "    <tr>\n",
       "        <th>category</th>\n",
       "    </tr>\n",
       "    <tr>\n",
       "        <td>Еда</td>\n",
       "    </tr>\n",
       "    <tr>\n",
       "        <td>Канцелярия</td>\n",
       "    </tr>\n",
       "    <tr>\n",
       "        <td>Еда</td>\n",
       "    </tr>\n",
       "    <tr>\n",
       "        <td>Техника</td>\n",
       "    </tr>\n",
       "</table>"
      ],
      "text/plain": [
       "[('Еда',), ('Канцелярия',), ('Еда',), ('Техника',)]"
      ]
     },
     "execution_count": 20,
     "metadata": {},
     "output_type": "execute_result"
    }
   ],
   "source": [
    "%sql SELECT category from product;"
   ]
  },
  {
   "cell_type": "code",
   "execution_count": 21,
   "metadata": {
    "slideshow": {
     "slide_type": "subslide"
    }
   },
   "outputs": [
    {
     "name": "stdout",
     "output_type": "stream",
     "text": [
      "Done.\n"
     ]
    },
    {
     "data": {
      "text/html": [
       "<table>\n",
       "    <tr>\n",
       "        <th>category</th>\n",
       "    </tr>\n",
       "    <tr>\n",
       "        <td>Еда</td>\n",
       "    </tr>\n",
       "    <tr>\n",
       "        <td>Канцелярия</td>\n",
       "    </tr>\n",
       "    <tr>\n",
       "        <td>Техника</td>\n",
       "    </tr>\n",
       "</table>"
      ],
      "text/plain": [
       "[('Еда',), ('Канцелярия',), ('Техника',)]"
      ]
     },
     "execution_count": 21,
     "metadata": {},
     "output_type": "execute_result"
    }
   ],
   "source": [
    "%%sql \n",
    "-- чтобы убрать дубли используйте слово DISTINCT\n",
    "SELECT DISTINCT category from product;"
   ]
  },
  {
   "cell_type": "markdown",
   "metadata": {
    "slideshow": {
     "slide_type": "slide"
    }
   },
   "source": [
    "Сортировка результатов\n",
    "---------------------\n",
    "* Так как Таблица - это мультимножество, то порядок вывода строк не гарантирован. Иногда необходимо выводить строки в определенном порядке\n"
   ]
  },
  {
   "cell_type": "code",
   "execution_count": 13,
   "metadata": {
    "slideshow": {
     "slide_type": "subslide"
    }
   },
   "outputs": [
    {
     "name": "stdout",
     "output_type": "stream",
     "text": [
      "Done.\n"
     ]
    },
    {
     "data": {
      "text/html": [
       "<table>\n",
       "    <tr>\n",
       "        <th>pname</th>\n",
       "        <th>price</th>\n",
       "        <th>manufacturer</th>\n",
       "    </tr>\n",
       "    <tr>\n",
       "        <td>Печенье</td>\n",
       "        <td>149.99</td>\n",
       "        <td>WagonWiels</td>\n",
       "    </tr>\n",
       "    <tr>\n",
       "        <td>Планшет</td>\n",
       "        <td>203.99</td>\n",
       "        <td>Zua</td>\n",
       "    </tr>\n",
       "</table>"
      ],
      "text/plain": [
       "[('Печенье', 149.99, 'WagonWiels'), ('Планшет', 203.99, 'Zua')]"
      ]
     },
     "execution_count": 13,
     "metadata": {},
     "output_type": "execute_result"
    }
   ],
   "source": [
    "%%sql\n",
    "-- сортировка результатов\n",
    "-- сортировка по умолчанию - ascending\n",
    "SELECT   pname, price, manufacturer\n",
    "FROM     Product\n",
    "WHERE    price > 50\n",
    "ORDER BY  price, pname"
   ]
  },
  {
   "cell_type": "code",
   "execution_count": 22,
   "metadata": {
    "slideshow": {
     "slide_type": "subslide"
    }
   },
   "outputs": [
    {
     "name": "stdout",
     "output_type": "stream",
     "text": [
      "Done.\n"
     ]
    },
    {
     "data": {
      "text/html": [
       "<table>\n",
       "    <tr>\n",
       "        <th>price</th>\n",
       "        <th>manufacturer</th>\n",
       "    </tr>\n",
       "    <tr>\n",
       "        <td>149.99</td>\n",
       "        <td>WagonWiels</td>\n",
       "    </tr>\n",
       "    <tr>\n",
       "        <td>203.99</td>\n",
       "        <td>Zua</td>\n",
       "    </tr>\n",
       "    <tr>\n",
       "        <td>19.99</td>\n",
       "        <td>Тульский пряник</td>\n",
       "    </tr>\n",
       "    <tr>\n",
       "        <td>29.99</td>\n",
       "        <td>Эксмо</td>\n",
       "    </tr>\n",
       "</table>"
      ],
      "text/plain": [
       "[(149.99, 'WagonWiels'),\n",
       " (203.99, 'Zua'),\n",
       " (19.99, 'Тульский пряник'),\n",
       " (29.99, 'Эксмо')]"
      ]
     },
     "execution_count": 22,
     "metadata": {},
     "output_type": "execute_result"
    }
   ],
   "source": [
    "%%sql\n",
    "-- сортировка результатов\n",
    "-- тип сортировки каждого компонента определяется индивидуально\n",
    "SELECT   price, manufacturer\n",
    "FROM     Product\n",
    "ORDER BY   manufacturer ASC, price DESC"
   ]
  },
  {
   "cell_type": "markdown",
   "metadata": {},
   "source": [
    "Соединения - JOIN\n",
    "------\n",
    "\n",
    "\n",
    "* Рассмотрим таблицу компаний.\n",
    "> company(<u>cname</u>, stockprice, country)\n",
    " "
   ]
  },
  {
   "cell_type": "code",
   "execution_count": 32,
   "metadata": {},
   "outputs": [
    {
     "name": "stdout",
     "output_type": "stream",
     "text": [
      "1 rows affected.\n",
      "1 rows affected.\n",
      "1 rows affected.\n",
      "1 rows affected.\n",
      "1 rows affected.\n",
      "1 rows affected.\n"
     ]
    },
    {
     "data": {
      "text/plain": [
       "[]"
      ]
     },
     "execution_count": 32,
     "metadata": {},
     "output_type": "execute_result"
    }
   ],
   "source": [
    "%%sql\n",
    "drop table if exists product; -- This needs to be dropped if exists, see why further down!\n",
    "drop table if exists company;\n",
    "create table company (\n",
    "    cname varchar primary key, -- company name uniquely identifies the company.\n",
    "    stockprice money, -- stock price is in money \n",
    "    country varchar); -- country is just a string\n",
    "insert into company values ('Тульский пряник', 25.0, 'Россия');\n",
    "insert into company values ('Эксмо', 65.0, 'Россия');\n",
    "insert into company values ('Zua', 15.0, 'Китай');"
   ]
  },
  {
   "cell_type": "code",
   "execution_count": 33,
   "metadata": {},
   "outputs": [
    {
     "name": "stdout",
     "output_type": "stream",
     "text": [
      "Done.\n"
     ]
    },
    {
     "data": {
      "text/html": [
       "<table>\n",
       "    <tr>\n",
       "        <th>cname</th>\n",
       "        <th>stockprice</th>\n",
       "        <th>country</th>\n",
       "    </tr>\n",
       "    <tr>\n",
       "        <td>Тульский пряник</td>\n",
       "        <td>25</td>\n",
       "        <td>Россия</td>\n",
       "    </tr>\n",
       "    <tr>\n",
       "        <td>Эксмо</td>\n",
       "        <td>65</td>\n",
       "        <td>Россия</td>\n",
       "    </tr>\n",
       "    <tr>\n",
       "        <td>Zua</td>\n",
       "        <td>15</td>\n",
       "        <td>Китай</td>\n",
       "    </tr>\n",
       "</table>"
      ],
      "text/plain": [
       "[('Тульский пряник', 25, 'Россия'),\n",
       " ('Эксмо', 65, 'Россия'),\n",
       " ('Zua', 15, 'Китай')]"
      ]
     },
     "execution_count": 33,
     "metadata": {},
     "output_type": "execute_result"
    }
   ],
   "source": [
    "%sql select * from company;"
   ]
  },
  {
   "cell_type": "markdown",
   "metadata": {},
   "source": [
    "Внешние ключи\n",
    "-----------------------\n",
    "* Допустим мы ходим добавить таблицу продуктов\n",
    "\n",
    "> Product(pname, price, category, manufacturer)\n",
    "\n",
    "* Может возникнуть следующая ситуация: есть компания, продающая какие-то продукты, но при этом она отсутствует в таблице компаний.\n",
    "* Чтобы избежать это, воспользуемя _внешними ключами_ "
   ]
  },
  {
   "cell_type": "markdown",
   "metadata": {},
   "source": [
    "Назвнание компании в product _ссылается_ на поле cnma из таблицы company:\n",
    "\n",
    "> foreign key (manufacturer) references company(cname)\n",
    "\n",
    "  * Замечание: cname <u>должно быть</u> ключом в  company! \n",
    "  "
   ]
  },
  {
   "cell_type": "code",
   "execution_count": 34,
   "metadata": {},
   "outputs": [
    {
     "name": "stdout",
     "output_type": "stream",
     "text": [
      "Done.\n",
      "Done.\n",
      "1 rows affected.\n",
      "1 rows affected.\n",
      "1 rows affected.\n",
      "1 rows affected.\n",
      "1 rows affected.\n"
     ]
    },
    {
     "data": {
      "text/plain": [
       "[]"
      ]
     },
     "execution_count": 34,
     "metadata": {},
     "output_type": "execute_result"
    }
   ],
   "source": [
    "%%sql drop table if exists product;\n",
    "pragma foreign_keys = ON; -- WARNING by default off in sqlite\n",
    "create table product(\n",
    "       pname varchar primary key, -- name of the product\n",
    "       price money, -- price of the product\n",
    "       category varchar, -- category\n",
    "       manufacturer varchar, -- manufacturer\n",
    "       foreign key (manufacturer) references company(cname));\n",
    "\n",
    "insert into product values('Пряник', 19.99, 'Еда', 'Тульский пряник');\n",
    "insert into product values('Тетрадь', 29.99, 'Канцелярия', 'Эксмо');\n",
    "insert into product values('Печенье', 149.99, 'Еда', 'Тульский пряник');\n",
    "insert into product values('Планшет', 203.99, 'Техника', 'Zua');"
   ]
  },
  {
   "cell_type": "markdown",
   "metadata": {},
   "source": [
    "Внешние ключи являются _ограничениями_ таблицы \n",
    "> Что случится при вставке компании, которой не в таблице company?\n"
   ]
  },
  {
   "cell_type": "code",
   "execution_count": 35,
   "metadata": {},
   "outputs": [
    {
     "name": "stdout",
     "output_type": "stream",
     "text": [
      "(sqlite3.IntegrityError) FOREIGN KEY constraint failed [SQL: \"insert into product values('MultiTouch', 203.99, 'Household', 'Google');\"]\n",
      "Rejected!\n"
     ]
    }
   ],
   "source": [
    "try:\n",
    "    %sql insert into product values('MultiTouch', 203.99, 'Household', 'Google');\n",
    "except Exception as e:\n",
    "    print (e)\n",
    "    print (\"Rejected!\")"
   ]
  },
  {
   "cell_type": "code",
   "execution_count": 36,
   "metadata": {},
   "outputs": [
    {
     "name": "stdout",
     "output_type": "stream",
     "text": [
      "Done.\n"
     ]
    },
    {
     "data": {
      "text/html": [
       "<table>\n",
       "    <tr>\n",
       "        <th>pname</th>\n",
       "        <th>price</th>\n",
       "        <th>category</th>\n",
       "        <th>manufacturer</th>\n",
       "    </tr>\n",
       "    <tr>\n",
       "        <td>Пряник</td>\n",
       "        <td>19.99</td>\n",
       "        <td>Еда</td>\n",
       "        <td>Тульский пряник</td>\n",
       "    </tr>\n",
       "    <tr>\n",
       "        <td>Тетрадь</td>\n",
       "        <td>29.99</td>\n",
       "        <td>Канцелярия</td>\n",
       "        <td>Эксмо</td>\n",
       "    </tr>\n",
       "    <tr>\n",
       "        <td>Печенье</td>\n",
       "        <td>149.99</td>\n",
       "        <td>Еда</td>\n",
       "        <td>Тульский пряник</td>\n",
       "    </tr>\n",
       "    <tr>\n",
       "        <td>Планшет</td>\n",
       "        <td>203.99</td>\n",
       "        <td>Техника</td>\n",
       "        <td>Zua</td>\n",
       "    </tr>\n",
       "</table>"
      ],
      "text/plain": [
       "[('Пряник', 19.99, 'Еда', 'Тульский пряник'),\n",
       " ('Тетрадь', 29.99, 'Канцелярия', 'Эксмо'),\n",
       " ('Печенье', 149.99, 'Еда', 'Тульский пряник'),\n",
       " ('Планшет', 203.99, 'Техника', 'Zua')]"
      ]
     },
     "execution_count": 36,
     "metadata": {},
     "output_type": "execute_result"
    }
   ],
   "source": [
    "%%sql\n",
    "-- the update is rejected!\n",
    "select * from product;"
   ]
  },
  {
   "cell_type": "markdown",
   "metadata": {},
   "source": [
    "Внешние ключи и удаление\n",
    "=============\n",
    "\n",
    "* Что произойдет, если мы удалим компанию ? Несколько вариантов:\n",
    "  * Запретить удаление (default)\n",
    "  * Удалить все продукты (добавьте \"`on delete cascade`\")\n",
    "  * Замена на  NULL или DEFAULT\n",
    "  "
   ]
  },
  {
   "cell_type": "markdown",
   "metadata": {},
   "source": [
    "**Первый вариант (default)- Удаление запрещено**"
   ]
  },
  {
   "cell_type": "code",
   "execution_count": 37,
   "metadata": {},
   "outputs": [
    {
     "name": "stdout",
     "output_type": "stream",
     "text": [
      "(sqlite3.IntegrityError) FOREIGN KEY constraint failed [SQL: \"delete from company where cname = 'Zua';\"]\n",
      "Disallowed!\n"
     ]
    }
   ],
   "source": [
    "try:\n",
    "    %sql delete from company where cname = 'Zua';\n",
    "except Exception as e:\n",
    "    print (e)\n",
    "    print (\"Disallowed!\")"
   ]
  },
  {
   "cell_type": "markdown",
   "metadata": {},
   "source": [
    "**Второй вариант: удалить все продукты, принадлежащие компании, которую мы удаляем**\n",
    "\n",
    "Необходимо изменить опеределение в create table:\n",
    "> foreign key (manufacturer) references company(cname) on delete cascade\n",
    "\n",
    "Теперь, когда строка компании удалена, все продукты с указанной компанией, будут также удалены."
   ]
  },
  {
   "cell_type": "markdown",
   "metadata": {},
   "source": [
    "Соединения\n",
    "------\n",
    "> Product (<u>pname</u>,  price, category, manufacturer)<br>\n",
    "> Company (<u>cname</u>, stockPrice, country)\n",
    "\n",
    "Мы хотим ответить на вопрос\n",
    "\n",
    "> Найти все продукты меньшие 200$, произведенные в России\n",
    "> Возвратить их имена и цену. \n",
    "\n"
   ]
  },
  {
   "cell_type": "code",
   "execution_count": 31,
   "metadata": {},
   "outputs": [
    {
     "name": "stdout",
     "output_type": "stream",
     "text": [
      "Done.\n"
     ]
    },
    {
     "data": {
      "text/html": [
       "<table>\n",
       "    <tr>\n",
       "        <th>pname</th>\n",
       "        <th>price</th>\n",
       "    </tr>\n",
       "    <tr>\n",
       "        <td>Пряник</td>\n",
       "        <td>19.99</td>\n",
       "    </tr>\n",
       "    <tr>\n",
       "        <td>Тетрадь</td>\n",
       "        <td>29.99</td>\n",
       "    </tr>\n",
       "    <tr>\n",
       "        <td>Печенье</td>\n",
       "        <td>149.99</td>\n",
       "    </tr>\n",
       "</table>"
      ],
      "text/plain": [
       "[('Пряник', 19.99), ('Тетрадь', 29.99), ('Печенье', 149.99)]"
      ]
     },
     "execution_count": 31,
     "metadata": {},
     "output_type": "execute_result"
    }
   ],
   "source": [
    "%%sql\n",
    "SELECT pname, price\n",
    "FROM product, company\n",
    "where manufacturer=cname and country='Россия' and price <= 200;"
   ]
  },
  {
   "cell_type": "markdown",
   "metadata": {},
   "source": [
    "Другой вариант написания запроса."
   ]
  },
  {
   "cell_type": "code",
   "execution_count": 38,
   "metadata": {},
   "outputs": [
    {
     "name": "stdout",
     "output_type": "stream",
     "text": [
      "Done.\n"
     ]
    },
    {
     "data": {
      "text/html": [
       "<table>\n",
       "    <tr>\n",
       "        <th>cname</th>\n",
       "    </tr>\n",
       "    <tr>\n",
       "        <td>Тульский пряник</td>\n",
       "    </tr>\n",
       "    <tr>\n",
       "        <td>Эксмо</td>\n",
       "    </tr>\n",
       "</table>"
      ],
      "text/plain": [
       "[('Тульский пряник',), ('Эксмо',)]"
      ]
     },
     "execution_count": 38,
     "metadata": {},
     "output_type": "execute_result"
    }
   ],
   "source": [
    "%%sql -- Часть 1: выбрать все компании из России\n",
    "SELECT distinct cname -- нужна ли нам уникальность?\n",
    "from company where country='Россия';"
   ]
  },
  {
   "cell_type": "code",
   "execution_count": 39,
   "metadata": {},
   "outputs": [
    {
     "name": "stdout",
     "output_type": "stream",
     "text": [
      "Done.\n"
     ]
    },
    {
     "data": {
      "text/html": [
       "<table>\n",
       "    <tr>\n",
       "        <th>pname</th>\n",
       "        <th>price</th>\n",
       "        <th>manufacturer</th>\n",
       "    </tr>\n",
       "    <tr>\n",
       "        <td>Печенье</td>\n",
       "        <td>149.99</td>\n",
       "        <td>Тульский пряник</td>\n",
       "    </tr>\n",
       "    <tr>\n",
       "        <td>Пряник</td>\n",
       "        <td>19.99</td>\n",
       "        <td>Тульский пряник</td>\n",
       "    </tr>\n",
       "    <tr>\n",
       "        <td>Тетрадь</td>\n",
       "        <td>29.99</td>\n",
       "        <td>Эксмо</td>\n",
       "    </tr>\n",
       "</table>"
      ],
      "text/plain": [
       "[('Печенье', 149.99, 'Тульский пряник'),\n",
       " ('Пряник', 19.99, 'Тульский пряник'),\n",
       " ('Тетрадь', 29.99, 'Эксмо')]"
      ]
     },
     "execution_count": 39,
     "metadata": {},
     "output_type": "execute_result"
    }
   ],
   "source": [
    "%%sql -- Part 2: Продукты до 200\n",
    "select distinct pname, price, manufacturer\n",
    "from product\n",
    "where price <= 200;"
   ]
  },
  {
   "cell_type": "code",
   "execution_count": 40,
   "metadata": {},
   "outputs": [
    {
     "name": "stdout",
     "output_type": "stream",
     "text": [
      "Done.\n"
     ]
    },
    {
     "data": {
      "text/html": [
       "<table>\n",
       "    <tr>\n",
       "        <th>pname</th>\n",
       "        <th>price</th>\n",
       "        <th>manufacturer</th>\n",
       "        <th>cname</th>\n",
       "    </tr>\n",
       "    <tr>\n",
       "        <td>Печенье</td>\n",
       "        <td>149.99</td>\n",
       "        <td>Тульский пряник</td>\n",
       "        <td>Тульский пряник</td>\n",
       "    </tr>\n",
       "    <tr>\n",
       "        <td>Печенье</td>\n",
       "        <td>149.99</td>\n",
       "        <td>Тульский пряник</td>\n",
       "        <td>Эксмо</td>\n",
       "    </tr>\n",
       "    <tr>\n",
       "        <td>Пряник</td>\n",
       "        <td>19.99</td>\n",
       "        <td>Тульский пряник</td>\n",
       "        <td>Тульский пряник</td>\n",
       "    </tr>\n",
       "    <tr>\n",
       "        <td>Пряник</td>\n",
       "        <td>19.99</td>\n",
       "        <td>Тульский пряник</td>\n",
       "        <td>Эксмо</td>\n",
       "    </tr>\n",
       "    <tr>\n",
       "        <td>Тетрадь</td>\n",
       "        <td>29.99</td>\n",
       "        <td>Эксмо</td>\n",
       "        <td>Тульский пряник</td>\n",
       "    </tr>\n",
       "    <tr>\n",
       "        <td>Тетрадь</td>\n",
       "        <td>29.99</td>\n",
       "        <td>Эксмо</td>\n",
       "        <td>Эксмо</td>\n",
       "    </tr>\n",
       "</table>"
      ],
      "text/plain": [
       "[('Печенье', 149.99, 'Тульский пряник', 'Тульский пряник'),\n",
       " ('Печенье', 149.99, 'Тульский пряник', 'Эксмо'),\n",
       " ('Пряник', 19.99, 'Тульский пряник', 'Тульский пряник'),\n",
       " ('Пряник', 19.99, 'Тульский пряник', 'Эксмо'),\n",
       " ('Тетрадь', 29.99, 'Эксмо', 'Тульский пряник'),\n",
       " ('Тетрадь', 29.99, 'Эксмо', 'Эксмо')]"
      ]
     },
     "execution_count": 40,
     "metadata": {},
     "output_type": "execute_result"
    }
   ],
   "source": [
    "%%sql -- Объединение как cross join\n",
    "SELECT * \n",
    "FROM \n",
    "  (SELECT DISTINCT pname, price, manufacturer\n",
    "   FROM product\n",
    "   WHERE price <= 200) CheapProducts,\n",
    "  (SELECT DISTINCT cname\n",
    "   FROM company\n",
    "   WHERE country='Россия') JapaneseProducts;"
   ]
  },
  {
   "cell_type": "code",
   "execution_count": 41,
   "metadata": {},
   "outputs": [
    {
     "name": "stdout",
     "output_type": "stream",
     "text": [
      "Done.\n"
     ]
    },
    {
     "data": {
      "text/html": [
       "<table>\n",
       "    <tr>\n",
       "        <th>pname</th>\n",
       "        <th>price</th>\n",
       "    </tr>\n",
       "    <tr>\n",
       "        <td>Печенье</td>\n",
       "        <td>149.99</td>\n",
       "    </tr>\n",
       "    <tr>\n",
       "        <td>Пряник</td>\n",
       "        <td>19.99</td>\n",
       "    </tr>\n",
       "    <tr>\n",
       "        <td>Тетрадь</td>\n",
       "        <td>29.99</td>\n",
       "    </tr>\n",
       "</table>"
      ],
      "text/plain": [
       "[('Печенье', 149.99), ('Пряник', 19.99), ('Тетрадь', 29.99)]"
      ]
     },
     "execution_count": 41,
     "metadata": {},
     "output_type": "execute_result"
    }
   ],
   "source": [
    "%%sql\n",
    "-- Фильтруем cross join\n",
    "SELECT DISTINCT pname, price\n",
    "FROM \n",
    "  (SELECT DISTINCT pname, price, manufacturer\n",
    "   FROM product\n",
    "   WHERE price <= 200) CheapProducts,\n",
    "  (SELECT distinct cname\n",
    "   FROM company\n",
    "   WHERE country='Россия') JapaneseProducts\n",
    "WHERE cname = manufacturer;"
   ]
  },
  {
   "cell_type": "markdown",
   "metadata": {},
   "source": [
    "Примечания\n",
    "--------\n",
    "* Есть множество логических вариантов написать один и тот же запрос\n",
    "    * Этот факт будет использоваться для оптимизации"
   ]
  },
  {
   "cell_type": "markdown",
   "metadata": {},
   "source": [
    "Дубли после соединения\n",
    "--------------------------\n",
    "\n",
    "Замечание - могут возникнуть дубли после соединения..."
   ]
  },
  {
   "cell_type": "code",
   "execution_count": 42,
   "metadata": {},
   "outputs": [
    {
     "name": "stdout",
     "output_type": "stream",
     "text": [
      "Done.\n"
     ]
    },
    {
     "data": {
      "text/html": [
       "<table>\n",
       "    <tr>\n",
       "        <th>country</th>\n",
       "    </tr>\n",
       "    <tr>\n",
       "        <td>Россия</td>\n",
       "    </tr>\n",
       "    <tr>\n",
       "        <td>Россия</td>\n",
       "    </tr>\n",
       "</table>"
      ],
      "text/plain": [
       "[('Россия',), ('Россия',)]"
      ]
     },
     "execution_count": 42,
     "metadata": {},
     "output_type": "execute_result"
    }
   ],
   "source": [
    "%%sql -- duplicate answer\n",
    "SELECT Country\n",
    "FROM Product, Company\n",
    "WHERE  Manufacturer=CName AND Category='Еда';"
   ]
  },
  {
   "cell_type": "code",
   "execution_count": null,
   "metadata": {
    "collapsed": true
   },
   "outputs": [],
   "source": []
  },
  {
   "cell_type": "code",
   "execution_count": null,
   "metadata": {
    "collapsed": true
   },
   "outputs": [],
   "source": []
  }
 ],
 "metadata": {
  "celltoolbar": "Slideshow",
  "kernelspec": {
   "display_name": "Python 3",
   "language": "python",
   "name": "python3"
  },
  "language_info": {
   "codemirror_mode": {
    "name": "ipython",
    "version": 3
   },
   "file_extension": ".py",
   "mimetype": "text/x-python",
   "name": "python",
   "nbconvert_exporter": "python",
   "pygments_lexer": "ipython3",
   "version": "3.7.0"
  }
 },
 "nbformat": 4,
 "nbformat_minor": 1
}
