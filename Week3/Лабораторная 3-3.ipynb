{
 "cells": [
  {
   "cell_type": "markdown",
   "metadata": {
    "collapsed": true
   },
   "source": [
    "# Домашнее задание 2 \n",
    "\n",
    "Необходимо реализовать схему, указанную в hw_diagram.pdf \n"
   ]
  },
  {
   "cell_type": "markdown",
   "metadata": {},
   "source": [
    "## Описание таблиц \n",
    "PeopleStatus - Описание возможных статусов людей, которые есть в университете (Студент, Преподаватель).\n",
    "Faculties - Описание факультетов, которые есть в университете (KIB, IT, и т.д.).\n",
    "People - Информация о людях в университете (Имя, почта, ссылка на факультет, ссылка на статус).\n",
    "Classes - Описание возможных классов в университете (название (Математический анализ) и ссылка на факультет).\n",
    "Semesters - Справочник семестров факультета(например, Осень2016, '2016-01-01', '2016-12-31').\n",
    "ClassesSchedule - Расписание классов (ссылки на семестр, преподавателя и курс, день недели, время начала).\n",
    "StudentsSchedule - Таблица, описывающая, какой студент ходит на какой курс."
   ]
  },
  {
   "cell_type": "code",
   "execution_count": 1,
   "metadata": {},
   "outputs": [
    {
     "data": {
      "text/plain": [
       "'Connected: @HOMEVORKE.db'"
      ]
     },
     "execution_count": 1,
     "metadata": {},
     "output_type": "execute_result"
    }
   ],
   "source": [
    "# Не забудьте настроить соединение!\n",
    "%load_ext sql\n",
    "%sql sqlite:///HOMEVORKE.db"
   ]
  },
  {
   "cell_type": "markdown",
   "metadata": {},
   "source": [
    "## Создание таблиц\n",
    "Напишет ниже скрипты по созданию таблиц с учетом всех внешних ключей."
   ]
  },
  {
   "cell_type": "code",
   "execution_count": 11,
   "metadata": {},
   "outputs": [
    {
     "name": "stdout",
     "output_type": "stream",
     "text": [
      " * sqlite:///HOMEVORKE.db\n",
      "Done.\n",
      "Done.\n",
      "Done.\n",
      "Done.\n",
      "Done.\n",
      "Done.\n",
      "Done.\n",
      "Done.\n",
      "Done.\n",
      "Done.\n",
      "Done.\n",
      "Done.\n",
      "Done.\n",
      "Done.\n",
      "Done.\n"
     ]
    },
    {
     "data": {
      "text/plain": [
       "[]"
      ]
     },
     "execution_count": 11,
     "metadata": {},
     "output_type": "execute_result"
    }
   ],
   "source": [
    "%%sql\n",
    "PRAGMA foreign_keys=ON;\n",
    "drop table if exists classesschedule;\n",
    "drop table if exists studentschedule;\n",
    "drop table if exists classes;\n",
    "drop table if exists semesters;\n",
    "drop table if exists people;\n",
    "drop table if exists peoplestatus;\n",
    "drop table if exists faculties;\n",
    "\n",
    "create table classesschedule(\n",
    "    id integer primary key,\n",
    "    class_id integer,\n",
    "    teacher_id integer,\n",
    "    semester_id integer,\n",
    "    week_day integer,\n",
    "    time_start varchar(15),\n",
    "    foreign key(class_id) references Classes(id),\n",
    "    foreign key(teacher_id) references People(id),\n",
    "    foreign key(semester_id) references Semesters(id)\n",
    ");\n",
    "create table people(\n",
    "    id integer primary key,\n",
    "    name varchar(30),\n",
    "    email varchar(30),\n",
    "    fac_id integer,\n",
    "    status_id integer,\n",
    "    foreign key(fac_id) references Faculties(id),\n",
    "    foreign key(status_id) references PeopleStatus(id)\n",
    ");\n",
    "create table peoplestatus(\n",
    "    id integer primary key,\n",
    "    name varchar(15)\n",
    ");\n",
    "create table semesters(\n",
    "    id integer primary key,\n",
    "    shortname varchar(10),\n",
    "    date_start datetime,\n",
    "    date_end datetime\n",
    ");\n",
    "create table classes(\n",
    "    id integer primary key,\n",
    "    description varchar(30),\n",
    "    fac_id integer,\n",
    "    foreign key (fac_id) references Faculties(id)\n",
    ");\n",
    "create table faculties(\n",
    "    id integer primary key,\n",
    "    name varchar(10)\n",
    ");\n",
    "create table studentschedule(\n",
    "    student_id integer,\n",
    "    classesschedule_id integer,\n",
    "    primary key(student_id,classesschedule_id)\n",
    "    foreign key(student_id) references People(id),\n",
    "    foreign key(classesschedule_id) references Classesschedule(id)\n",
    ");"
   ]
  },
  {
   "cell_type": "markdown",
   "metadata": {},
   "source": [
    "## Добавление записей в таблицы\n",
    "Приведите примеры добавления записей в каждую из таблиц\n"
   ]
  },
  {
   "cell_type": "code",
   "execution_count": 12,
   "metadata": {},
   "outputs": [
    {
     "name": "stdout",
     "output_type": "stream",
     "text": [
      " * sqlite:///HOMEVORKE.db\n",
      "1 rows affected.\n",
      "1 rows affected.\n",
      "1 rows affected.\n",
      "1 rows affected.\n",
      "1 rows affected.\n"
     ]
    },
    {
     "data": {
      "text/plain": [
       "[]"
      ]
     },
     "execution_count": 12,
     "metadata": {},
     "output_type": "execute_result"
    }
   ],
   "source": [
    "%%sql\n",
    "insert into Faculties values(0,\"KIB\");\n",
    "insert into Faculties values(1,\"IT\");\n",
    "insert into Faculties values(2,\"PT\");\n",
    "insert into Faculties values(3,\"RTS\");\n",
    "insert into Faculties values(4,\"ITHT\");"
   ]
  },
  {
   "cell_type": "code",
   "execution_count": 13,
   "metadata": {},
   "outputs": [
    {
     "name": "stdout",
     "output_type": "stream",
     "text": [
      " * sqlite:///HOMEVORKE.db\n",
      "1 rows affected.\n",
      "1 rows affected.\n",
      "1 rows affected.\n",
      "1 rows affected.\n"
     ]
    },
    {
     "data": {
      "text/plain": [
       "[]"
      ]
     },
     "execution_count": 13,
     "metadata": {},
     "output_type": "execute_result"
    }
   ],
   "source": [
    "%%sql\n",
    "insert into PeopleStatus values(0,\"Student\");\n",
    "insert into PeopleStatus values(1,\"Teacher\");\n",
    "insert into PeopleStatus values(2,\"Worker\");\n",
    "insert into PeopleStatus values(3,\"SysAdmin\");"
   ]
  },
  {
   "cell_type": "code",
   "execution_count": 14,
   "metadata": {},
   "outputs": [
    {
     "name": "stdout",
     "output_type": "stream",
     "text": [
      " * sqlite:///HOMEVORKE.db\n",
      "1 rows affected.\n",
      "1 rows affected.\n",
      "1 rows affected.\n",
      "1 rows affected.\n"
     ]
    },
    {
     "data": {
      "text/plain": [
       "[]"
      ]
     },
     "execution_count": 14,
     "metadata": {},
     "output_type": "execute_result"
    }
   ],
   "source": [
    "%%sql\n",
    "insert into Classes values(0,\"LinearA\",(select id from Faculties where name=\"KIB\"));\n",
    "insert into Classes values(1,\"Math\",(select id from Faculties where name=\"KIB\"));\n",
    "insert into Classes values(2,\"Discrete\",(select id from Faculties where name=\"KIB\"));\n",
    "insert into Classes values(3,\"Physics\",(select id from Faculties where name=\"RTS\"));"
   ]
  },
  {
   "cell_type": "code",
   "execution_count": null,
   "metadata": {},
   "outputs": [],
   "source": []
  }
 ],
 "metadata": {
  "kernelspec": {
   "display_name": "Python 3",
   "language": "python",
   "name": "python3"
  },
  "language_info": {
   "codemirror_mode": {
    "name": "ipython",
    "version": 3
   },
   "file_extension": ".py",
   "mimetype": "text/x-python",
   "name": "python",
   "nbconvert_exporter": "python",
   "pygments_lexer": "ipython3",
   "version": "3.7.0"
  }
 },
 "nbformat": 4,
 "nbformat_minor": 2
}
