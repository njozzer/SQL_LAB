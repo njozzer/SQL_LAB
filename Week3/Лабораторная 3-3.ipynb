{
 "cells": [
  {
   "cell_type": "markdown",
   "metadata": {
    "collapsed": true
   },
   "source": [
    "# Домашнее задание 2 \n",
    "\n",
    "Необходимо реализовать схему, указанную в hw_diagram.pdf \n"
   ]
  },
  {
   "cell_type": "markdown",
   "metadata": {},
   "source": [
    "## Описание таблиц \n",
    "PeopleStatus - Описание возможных статусов людей, которые есть в университете (Студент, Преподаватель).\n",
    "Faculties - Описание факультетов, которые есть в университете (KIB, IT, и т.д.).\n",
    "People - Информация о людях в университете (Имя, почта, ссылка на факультет, ссылка на статус).\n",
    "Classes - Описание возможных классов в университете (название (Математический анализ) и ссылка на факультет).\n",
    "Semesters - Справочник семестров факультета(например, Осень2016, '2016-01-01', '2016-12-31').\n",
    "ClassesSchedule - Расписание классов (ссылки на семестр, преподавателя и курс, день недели, время начала).\n",
    "StudentsSchedule - Таблица, описывающая, какой студент ходит на какой курс."
   ]
  },
  {
   "cell_type": "code",
   "execution_count": 2,
   "metadata": {},
   "outputs": [
    {
     "data": {
      "text/plain": [
       "'Connected: @HOMEVORKE.db'"
      ]
     },
     "execution_count": 2,
     "metadata": {},
     "output_type": "execute_result"
    }
   ],
   "source": [
    "# Не забудьте настроить соединение!\n",
    "%load_ext sql\n",
    "%sql sqlite:///HOMEVORKE.db"
   ]
  },
  {
   "cell_type": "markdown",
   "metadata": {},
   "source": [
    "## Создание таблиц\n",
    "Напишет ниже скрипты по созданию таблиц с учетом всех внешних ключей."
   ]
  },
  {
   "cell_type": "code",
   "execution_count": 4,
   "metadata": {},
   "outputs": [
    {
     "name": "stdout",
     "output_type": "stream",
     "text": [
      " * sqlite:///HOMEVORKE.db\n",
      "Done.\n",
      "Done.\n",
      "Done.\n",
      "Done.\n",
      "Done.\n",
      "Done.\n",
      "Done.\n",
      "Done.\n",
      "Done.\n",
      "Done.\n",
      "Done.\n",
      "Done.\n",
      "Done.\n",
      "Done.\n",
      "Done.\n"
     ]
    },
    {
     "data": {
      "text/plain": [
       "[]"
      ]
     },
     "execution_count": 4,
     "metadata": {},
     "output_type": "execute_result"
    }
   ],
   "source": [
    "%%sql\n",
    "PRAGMA foreign_keys=ON;\n",
    "drop table if exists classesschedule;\n",
    "drop table if exists studentschedule;\n",
    "drop table if exists classes;\n",
    "drop table if exists semesters;\n",
    "drop table if exists people;\n",
    "drop table if exists peoplestatus;\n",
    "drop table if exists faculties;\n",
    "\n",
    "create table classesschedule(\n",
    "    id integer primary key,\n",
    "    class_id integer,\n",
    "    teacher_id integer,\n",
    "    semester_id integer,\n",
    "    week_day integer,\n",
    "    time_start varchar(15),\n",
    "    foreign key(class_id) references Classes(id),\n",
    "    foreign key(teacher_id) references People(id),\n",
    "    foreign key(semester_id) references Semesters(id)\n",
    ");\n",
    "create table people(\n",
    "    id integer primary key,\n",
    "    name varchar(30),\n",
    "    email varchar(30),\n",
    "    fac_id integer,\n",
    "    status_id integer,\n",
    "    foreign key(fac_id) references Faculties(id),\n",
    "    foreign key(status_id) references PeopleStatus(id)\n",
    ");\n",
    "create table peoplestatus(\n",
    "    id integer primary key,\n",
    "    name varchar(15)\n",
    ");\n",
    "create table semesters(\n",
    "    id integer primary key,\n",
    "    shortname varchar(10),\n",
    "    date_start date,\n",
    "    date_end date\n",
    ");\n",
    "create table classes(\n",
    "    id integer primary key,\n",
    "    description varchar(30),\n",
    "    fac_id integer,\n",
    "    foreign key (fac_id) references Faculties(id)\n",
    ");\n",
    "create table faculties(\n",
    "    id integer primary key,\n",
    "    name varchar(10)\n",
    ");\n",
    "create table studentschedule(\n",
    "    student_id integer,\n",
    "    classesschedule_id integer,\n",
    "    primary key(student_id,classesschedule_id)\n",
    "    foreign key(student_id) references People(id),\n",
    "    foreign key(classesschedule_id) references Classesschedule(id)\n",
    ");"
   ]
  },
  {
   "cell_type": "markdown",
   "metadata": {},
   "source": [
    "## Добавление записей в таблицы\n",
    "Приведите примеры добавления записей в каждую из таблиц\n"
   ]
  },
  {
   "cell_type": "code",
   "execution_count": 5,
   "metadata": {},
   "outputs": [
    {
     "name": "stdout",
     "output_type": "stream",
     "text": [
      " * sqlite:///HOMEVORKE.db\n",
      "1 rows affected.\n",
      "1 rows affected.\n",
      "1 rows affected.\n",
      "1 rows affected.\n",
      "1 rows affected.\n"
     ]
    },
    {
     "data": {
      "text/plain": [
       "[]"
      ]
     },
     "execution_count": 5,
     "metadata": {},
     "output_type": "execute_result"
    }
   ],
   "source": [
    "%%sql\n",
    "insert into Faculties values(0,\"KIB\");\n",
    "insert into Faculties values(1,\"IT\");\n",
    "insert into Faculties values(2,\"PT\");\n",
    "insert into Faculties values(3,\"RTS\");\n",
    "insert into Faculties values(4,\"ITHT\");"
   ]
  },
  {
   "cell_type": "code",
   "execution_count": 6,
   "metadata": {},
   "outputs": [
    {
     "name": "stdout",
     "output_type": "stream",
     "text": [
      " * sqlite:///HOMEVORKE.db\n",
      "1 rows affected.\n",
      "1 rows affected.\n",
      "1 rows affected.\n",
      "1 rows affected.\n"
     ]
    },
    {
     "data": {
      "text/plain": [
       "[]"
      ]
     },
     "execution_count": 6,
     "metadata": {},
     "output_type": "execute_result"
    }
   ],
   "source": [
    "%%sql\n",
    "insert into PeopleStatus values(0,\"Student\");\n",
    "insert into PeopleStatus values(1,\"Teacher\");\n",
    "insert into PeopleStatus values(2,\"Worker\");\n",
    "insert into PeopleStatus values(3,\"SysAdmin\");"
   ]
  },
  {
   "cell_type": "code",
   "execution_count": 7,
   "metadata": {},
   "outputs": [
    {
     "name": "stdout",
     "output_type": "stream",
     "text": [
      " * sqlite:///HOMEVORKE.db\n",
      "1 rows affected.\n",
      "1 rows affected.\n",
      "1 rows affected.\n",
      "1 rows affected.\n"
     ]
    },
    {
     "data": {
      "text/plain": [
       "[]"
      ]
     },
     "execution_count": 7,
     "metadata": {},
     "output_type": "execute_result"
    }
   ],
   "source": [
    "%%sql\n",
    "insert into Classes values(0,\"LinearA\",(select id from Faculties where name=\"KIB\"));\n",
    "insert into Classes values(1,\"Math\",(select id from Faculties where name=\"KIB\"));\n",
    "insert into Classes values(2,\"Discrete\",(select id from Faculties where name=\"KIB\"));\n",
    "insert into Classes values(3,\"Physics\",(select id from Faculties where name=\"RTS\"));"
   ]
  },
  {
   "cell_type": "code",
   "execution_count": 9,
   "metadata": {},
   "outputs": [
    {
     "name": "stdout",
     "output_type": "stream",
     "text": [
      " * sqlite:///HOMEVORKE.db\n",
      "1 rows affected.\n",
      "1 rows affected.\n",
      "1 rows affected.\n",
      "1 rows affected.\n"
     ]
    },
    {
     "data": {
      "text/plain": [
       "[]"
      ]
     },
     "execution_count": 9,
     "metadata": {},
     "output_type": "execute_result"
    }
   ],
   "source": [
    "%%sql\n",
    "insert into semesters values(0,\"AutWin2017\",\"2017-09-01\",\"2017-12-29\");\n",
    "insert into semesters values(1,\"WinSpr2018\",\"2018-01-01\",\"2018-06-01\");\n",
    "insert into semesters values(2,\"third\",\"2018-09-01\",\"2018-12-29\");\n",
    "insert into semesters values(3,\"fourth\",\"2019-01-01\",\"2019-06-01\");"
   ]
  },
  {
   "cell_type": "code",
   "execution_count": 12,
   "metadata": {},
   "outputs": [
    {
     "name": "stdout",
     "output_type": "stream",
     "text": [
      " * sqlite:///HOMEVORKE.db\n",
      "1 rows affected.\n",
      "1 rows affected.\n",
      "1 rows affected.\n",
      "1 rows affected.\n",
      "1 rows affected.\n"
     ]
    },
    {
     "data": {
      "text/plain": [
       "[]"
      ]
     },
     "execution_count": 12,
     "metadata": {},
     "output_type": "execute_result"
    }
   ],
   "source": [
    "%%sql\n",
    "insert into People values(0,\"Sergey\",\"email1@mail.ru\",\n",
    "                          (select id from Faculties where name=\"KIB\"),\n",
    "                          (select id from PeopleStatus where name=\"Student\"));\n",
    "insert into People values(2,\"Lyonya\",\"email2@mail.ru\",\n",
    "                          (select id from Faculties where name=\"KIB\"),\n",
    "                          (select id from PeopleStatus where name=\"Student\"));\n",
    "insert into People values(3,\"Anton\",\"email3@mail.ru\",\n",
    "                          (select id from Faculties where name=\"KIB\"),\n",
    "                          (select id from PeopleStatus where name=\"Student\"));\n",
    "insert into People values(4,\"Vlad\",\"email4@mail.ru\",\n",
    "                          (select id from Faculties where name=\"KIB\"),\n",
    "                          (select id from PeopleStatus where name=\"Student\"));\n",
    "insert into People values(5,\"Max\",\"email5@mail.ru\",\n",
    "                          (select id from Faculties where name=\"KIB\"),\n",
    "                          (select id from PeopleStatus where name=\"Student\"));\n",
    "insert into People values(6,\"Prokhorov\",\"email5@mail.ru\",\n",
    "                          (select id from Faculties where name=\"KIB\"),\n",
    "                          (select id from PeopleStatus where name=\"Teacher\"));\n",
    "insert into People values(7,\"Golovin\",\"email5@mail.ru\",\n",
    "                          (select id from Faculties where name=\"KIB\"),\n",
    "                          (select id from PeopleStatus where name=\"Teacher\"));"
   ]
  },
  {
   "cell_type": "code",
   "execution_count": 16,
   "metadata": {},
   "outputs": [
    {
     "name": "stdout",
     "output_type": "stream",
     "text": [
      " * sqlite:///HOMEVORKE.db\n",
      "Done.\n"
     ]
    },
    {
     "data": {
      "text/html": [
       "<table>\n",
       "    <tr>\n",
       "        <th>id</th>\n",
       "        <th>name</th>\n",
       "        <th>email</th>\n",
       "        <th>fac_id</th>\n",
       "        <th>status_id</th>\n",
       "    </tr>\n",
       "    <tr>\n",
       "        <td>0</td>\n",
       "        <td>Sergey</td>\n",
       "        <td>email1@mail.ru</td>\n",
       "        <td>0</td>\n",
       "        <td>0</td>\n",
       "    </tr>\n",
       "    <tr>\n",
       "        <td>2</td>\n",
       "        <td>Lyonya</td>\n",
       "        <td>email2@mail.ru</td>\n",
       "        <td>0</td>\n",
       "        <td>0</td>\n",
       "    </tr>\n",
       "    <tr>\n",
       "        <td>3</td>\n",
       "        <td>Anton</td>\n",
       "        <td>email3@mail.ru</td>\n",
       "        <td>0</td>\n",
       "        <td>0</td>\n",
       "    </tr>\n",
       "    <tr>\n",
       "        <td>4</td>\n",
       "        <td>Vlad</td>\n",
       "        <td>email4@mail.ru</td>\n",
       "        <td>0</td>\n",
       "        <td>0</td>\n",
       "    </tr>\n",
       "    <tr>\n",
       "        <td>5</td>\n",
       "        <td>Max</td>\n",
       "        <td>email5@mail.ru</td>\n",
       "        <td>0</td>\n",
       "        <td>0</td>\n",
       "    </tr>\n",
       "    <tr>\n",
       "        <td>6</td>\n",
       "        <td>Prokhorov</td>\n",
       "        <td>email5@mail.ru</td>\n",
       "        <td>0</td>\n",
       "        <td>1</td>\n",
       "    </tr>\n",
       "    <tr>\n",
       "        <td>7</td>\n",
       "        <td>Golovin</td>\n",
       "        <td>email5@mail.ru</td>\n",
       "        <td>0</td>\n",
       "        <td>1</td>\n",
       "    </tr>\n",
       "</table>"
      ],
      "text/plain": [
       "[(0, 'Sergey', 'email1@mail.ru', 0, 0),\n",
       " (2, 'Lyonya', 'email2@mail.ru', 0, 0),\n",
       " (3, 'Anton', 'email3@mail.ru', 0, 0),\n",
       " (4, 'Vlad', 'email4@mail.ru', 0, 0),\n",
       " (5, 'Max', 'email5@mail.ru', 0, 0),\n",
       " (6, 'Prokhorov', 'email5@mail.ru', 0, 1),\n",
       " (7, 'Golovin', 'email5@mail.ru', 0, 1)]"
      ]
     },
     "execution_count": 16,
     "metadata": {},
     "output_type": "execute_result"
    }
   ],
   "source": [
    "%%sql\n"
   ]
  },
  {
   "cell_type": "code",
   "execution_count": 23,
   "metadata": {},
   "outputs": [
    {
     "name": "stdout",
     "output_type": "stream",
     "text": [
      " * sqlite:///HOMEVORKE.db\n",
      "1 rows affected.\n",
      "1 rows affected.\n"
     ]
    },
    {
     "data": {
      "text/plain": [
       "[]"
      ]
     },
     "execution_count": 23,
     "metadata": {},
     "output_type": "execute_result"
    }
   ],
   "source": [
    "%%sql\n",
    "insert into classesschedule values(1,(select id from Classes where description=\"LinearA\"),\n",
    "                            (select id from People where name=\"Golovin\"),\n",
    "                            (select id from semesters where shortname = \"second\"),\n",
    "                            4,\n",
    "                            \"11:30\");\n",
    "insert into classesschedule values(2,(select id from Classes where description=\"LinearA\"),\n",
    "                            (select id from People where name=\"Golovin\"),\n",
    "                            (select id from semesters where shortname = \"third\"),\n",
    "                            4,\n",
    "                            \"13:00\")"
   ]
  },
  {
   "cell_type": "code",
   "execution_count": 24,
   "metadata": {},
   "outputs": [
    {
     "name": "stdout",
     "output_type": "stream",
     "text": [
      " * sqlite:///HOMEVORKE.db\n",
      "Done.\n"
     ]
    },
    {
     "data": {
      "text/html": [
       "<table>\n",
       "    <tr>\n",
       "        <th>id</th>\n",
       "        <th>class_id</th>\n",
       "        <th>teacher_id</th>\n",
       "        <th>semester_id</th>\n",
       "        <th>week_day</th>\n",
       "        <th>time_start</th>\n",
       "    </tr>\n",
       "    <tr>\n",
       "        <td>0</td>\n",
       "        <td>0</td>\n",
       "        <td>7</td>\n",
       "        <td>0</td>\n",
       "        <td>4</td>\n",
       "        <td>9:00</td>\n",
       "    </tr>\n",
       "    <tr>\n",
       "        <td>1</td>\n",
       "        <td>0</td>\n",
       "        <td>7</td>\n",
       "        <td>1</td>\n",
       "        <td>4</td>\n",
       "        <td>11:30</td>\n",
       "    </tr>\n",
       "    <tr>\n",
       "        <td>2</td>\n",
       "        <td>0</td>\n",
       "        <td>7</td>\n",
       "        <td>2</td>\n",
       "        <td>4</td>\n",
       "        <td>13:00</td>\n",
       "    </tr>\n",
       "</table>"
      ],
      "text/plain": [
       "[(0, 0, 7, 0, 4, '9:00'), (1, 0, 7, 1, 4, '11:30'), (2, 0, 7, 2, 4, '13:00')]"
      ]
     },
     "execution_count": 24,
     "metadata": {},
     "output_type": "execute_result"
    }
   ],
   "source": [
    "%%sql\n",
    "select * from classesschedule"
   ]
  },
  {
   "cell_type": "code",
   "execution_count": 32,
   "metadata": {},
   "outputs": [
    {
     "name": "stdout",
     "output_type": "stream",
     "text": [
      " * sqlite:///HOMEVORKE.db\n",
      "1 rows affected.\n"
     ]
    },
    {
     "data": {
      "text/plain": [
       "[]"
      ]
     },
     "execution_count": 32,
     "metadata": {},
     "output_type": "execute_result"
    }
   ],
   "source": [
    "%%sql\n",
    "insert into studentschedule values((select id from People where name = \"Lyonya\"),\n",
    "                            (select id from classesschedule where class_id = 0 and semester_id = 0)\n",
    "                           )"
   ]
  },
  {
   "cell_type": "code",
   "execution_count": 33,
   "metadata": {},
   "outputs": [
    {
     "name": "stdout",
     "output_type": "stream",
     "text": [
      " * sqlite:///HOMEVORKE.db\n",
      "Done.\n"
     ]
    },
    {
     "data": {
      "text/html": [
       "<table>\n",
       "    <tr>\n",
       "        <th>student_id</th>\n",
       "        <th>classesschedule_id</th>\n",
       "    </tr>\n",
       "    <tr>\n",
       "        <td>None</td>\n",
       "        <td>0</td>\n",
       "    </tr>\n",
       "    <tr>\n",
       "        <td>2</td>\n",
       "        <td>0</td>\n",
       "    </tr>\n",
       "</table>"
      ],
      "text/plain": [
       "[(None, 0), (2, 0)]"
      ]
     },
     "execution_count": 33,
     "metadata": {},
     "output_type": "execute_result"
    }
   ],
   "source": [
    "%%sql\n",
    "select * from studentschedule"
   ]
  },
  {
   "cell_type": "code",
   "execution_count": null,
   "metadata": {},
   "outputs": [],
   "source": []
  }
 ],
 "metadata": {
  "kernelspec": {
   "display_name": "Python 3",
   "language": "python",
   "name": "python3"
  },
  "language_info": {
   "codemirror_mode": {
    "name": "ipython",
    "version": 3
   },
   "file_extension": ".py",
   "mimetype": "text/x-python",
   "name": "python",
   "nbconvert_exporter": "python",
   "pygments_lexer": "ipython3",
   "version": "3.7.0"
  }
 },
 "nbformat": 4,
 "nbformat_minor": 2
}
